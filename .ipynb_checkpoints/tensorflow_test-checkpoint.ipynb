{
 "cells": [
  {
   "cell_type": "code",
   "execution_count": 2,
   "id": "2b3a4719-8b5e-442c-acea-b858e3da58bd",
   "metadata": {},
   "outputs": [],
   "source": [
    "import numpy as np\n",
    "import pandas as pd\n",
    "\n",
    "df  = pd.read_csv('winequalityN.csv')"
   ]
  },
  {
   "cell_type": "code",
   "execution_count": 3,
   "id": "7a25d385-9dad-447e-b662-7c9ec1db88b8",
   "metadata": {},
   "outputs": [
    {
     "data": {
      "text/html": [
       "<div>\n",
       "<style scoped>\n",
       "    .dataframe tbody tr th:only-of-type {\n",
       "        vertical-align: middle;\n",
       "    }\n",
       "\n",
       "    .dataframe tbody tr th {\n",
       "        vertical-align: top;\n",
       "    }\n",
       "\n",
       "    .dataframe thead th {\n",
       "        text-align: right;\n",
       "    }\n",
       "</style>\n",
       "<table border=\"1\" class=\"dataframe\">\n",
       "  <thead>\n",
       "    <tr style=\"text-align: right;\">\n",
       "      <th></th>\n",
       "      <th>type</th>\n",
       "      <th>fixed acidity</th>\n",
       "      <th>volatile acidity</th>\n",
       "      <th>citric acid</th>\n",
       "      <th>residual sugar</th>\n",
       "      <th>chlorides</th>\n",
       "      <th>free sulfur dioxide</th>\n",
       "      <th>total sulfur dioxide</th>\n",
       "      <th>density</th>\n",
       "      <th>pH</th>\n",
       "      <th>sulphates</th>\n",
       "      <th>alcohol</th>\n",
       "      <th>quality</th>\n",
       "    </tr>\n",
       "  </thead>\n",
       "  <tbody>\n",
       "    <tr>\n",
       "      <th>4325</th>\n",
       "      <td>white</td>\n",
       "      <td>6.4</td>\n",
       "      <td>0.24</td>\n",
       "      <td>0.26</td>\n",
       "      <td>8.2</td>\n",
       "      <td>0.054</td>\n",
       "      <td>47.0</td>\n",
       "      <td>182.0</td>\n",
       "      <td>0.99538</td>\n",
       "      <td>3.12</td>\n",
       "      <td>0.50</td>\n",
       "      <td>9.5</td>\n",
       "      <td>5</td>\n",
       "    </tr>\n",
       "    <tr>\n",
       "      <th>4200</th>\n",
       "      <td>white</td>\n",
       "      <td>8.0</td>\n",
       "      <td>0.24</td>\n",
       "      <td>0.33</td>\n",
       "      <td>1.2</td>\n",
       "      <td>0.044</td>\n",
       "      <td>28.0</td>\n",
       "      <td>101.0</td>\n",
       "      <td>0.99035</td>\n",
       "      <td>3.03</td>\n",
       "      <td>0.43</td>\n",
       "      <td>12.5</td>\n",
       "      <td>6</td>\n",
       "    </tr>\n",
       "    <tr>\n",
       "      <th>2009</th>\n",
       "      <td>white</td>\n",
       "      <td>8.0</td>\n",
       "      <td>0.40</td>\n",
       "      <td>0.33</td>\n",
       "      <td>7.7</td>\n",
       "      <td>0.034</td>\n",
       "      <td>27.0</td>\n",
       "      <td>98.0</td>\n",
       "      <td>0.99350</td>\n",
       "      <td>3.18</td>\n",
       "      <td>0.41</td>\n",
       "      <td>12.2</td>\n",
       "      <td>7</td>\n",
       "    </tr>\n",
       "    <tr>\n",
       "      <th>1089</th>\n",
       "      <td>white</td>\n",
       "      <td>7.0</td>\n",
       "      <td>0.17</td>\n",
       "      <td>0.33</td>\n",
       "      <td>4.0</td>\n",
       "      <td>0.034</td>\n",
       "      <td>17.0</td>\n",
       "      <td>127.0</td>\n",
       "      <td>0.99340</td>\n",
       "      <td>3.19</td>\n",
       "      <td>0.39</td>\n",
       "      <td>10.6</td>\n",
       "      <td>7</td>\n",
       "    </tr>\n",
       "    <tr>\n",
       "      <th>3852</th>\n",
       "      <td>white</td>\n",
       "      <td>5.9</td>\n",
       "      <td>0.20</td>\n",
       "      <td>0.23</td>\n",
       "      <td>1.5</td>\n",
       "      <td>0.037</td>\n",
       "      <td>38.0</td>\n",
       "      <td>93.0</td>\n",
       "      <td>0.99021</td>\n",
       "      <td>3.36</td>\n",
       "      <td>0.49</td>\n",
       "      <td>12.0</td>\n",
       "      <td>6</td>\n",
       "    </tr>\n",
       "  </tbody>\n",
       "</table>\n",
       "</div>"
      ],
      "text/plain": [
       "       type  fixed acidity  volatile acidity  citric acid  residual sugar  \\\n",
       "4325  white            6.4              0.24         0.26             8.2   \n",
       "4200  white            8.0              0.24         0.33             1.2   \n",
       "2009  white            8.0              0.40         0.33             7.7   \n",
       "1089  white            7.0              0.17         0.33             4.0   \n",
       "3852  white            5.9              0.20         0.23             1.5   \n",
       "\n",
       "      chlorides  free sulfur dioxide  total sulfur dioxide  density    pH  \\\n",
       "4325      0.054                 47.0                 182.0  0.99538  3.12   \n",
       "4200      0.044                 28.0                 101.0  0.99035  3.03   \n",
       "2009      0.034                 27.0                  98.0  0.99350  3.18   \n",
       "1089      0.034                 17.0                 127.0  0.99340  3.19   \n",
       "3852      0.037                 38.0                  93.0  0.99021  3.36   \n",
       "\n",
       "      sulphates  alcohol  quality  \n",
       "4325       0.50      9.5        5  \n",
       "4200       0.43     12.5        6  \n",
       "2009       0.41     12.2        7  \n",
       "1089       0.39     10.6        7  \n",
       "3852       0.49     12.0        6  "
      ]
     },
     "execution_count": 3,
     "metadata": {},
     "output_type": "execute_result"
    }
   ],
   "source": [
    "df.sample(5)"
   ]
  },
  {
   "cell_type": "code",
   "execution_count": 4,
   "id": "fa4df152-f239-465a-a74d-e2b8f867a05d",
   "metadata": {},
   "outputs": [
    {
     "data": {
      "text/plain": [
       "(6497, 13)"
      ]
     },
     "execution_count": 4,
     "metadata": {},
     "output_type": "execute_result"
    }
   ],
   "source": [
    "df.shape"
   ]
  },
  {
   "cell_type": "code",
   "execution_count": 7,
   "id": "3bd71cef-5f05-4f35-9c22-dde5f8f7500c",
   "metadata": {},
   "outputs": [
    {
     "data": {
      "text/plain": [
       "type                    0\n",
       "fixed acidity           0\n",
       "volatile acidity        0\n",
       "citric acid             0\n",
       "residual sugar          0\n",
       "chlorides               0\n",
       "free sulfur dioxide     0\n",
       "total sulfur dioxide    0\n",
       "density                 0\n",
       "pH                      0\n",
       "sulphates               0\n",
       "alcohol                 0\n",
       "quality                 0\n",
       "dtype: int64"
      ]
     },
     "execution_count": 7,
     "metadata": {},
     "output_type": "execute_result"
    }
   ],
   "source": [
    "df.isnull().sum()"
   ]
  },
  {
   "cell_type": "code",
   "execution_count": 6,
   "id": "a58626b9-27ac-4a33-9165-3a05c20224a1",
   "metadata": {},
   "outputs": [],
   "source": [
    "df = df.dropna()"
   ]
  },
  {
   "cell_type": "code",
   "execution_count": 8,
   "id": "30fa0055-c64b-4c8f-b198-b42845979e97",
   "metadata": {},
   "outputs": [
    {
     "data": {
      "text/plain": [
       "white    4870\n",
       "red      1593\n",
       "Name: type, dtype: int64"
      ]
     },
     "execution_count": 8,
     "metadata": {},
     "output_type": "execute_result"
    }
   ],
   "source": [
    "df['type'].value_counts()"
   ]
  },
  {
   "cell_type": "code",
   "execution_count": 10,
   "id": "93fb5666-e83e-449d-b6a5-b3b326a6a35b",
   "metadata": {},
   "outputs": [],
   "source": [
    "df['is_white_wine'] = [1 if typ == 'white' else 0 for typ in df['type']]"
   ]
  },
  {
   "cell_type": "code",
   "execution_count": 11,
   "id": "bf188aca-4832-4e2c-991a-3c0d76f7e67f",
   "metadata": {},
   "outputs": [],
   "source": [
    "df.drop('type', axis = 1, inplace=True)"
   ]
  },
  {
   "cell_type": "code",
   "execution_count": 12,
   "id": "3a7cf8c9-0f84-49e1-8d9d-7fc1c48d0815",
   "metadata": {},
   "outputs": [
    {
     "data": {
      "text/html": [
       "<div>\n",
       "<style scoped>\n",
       "    .dataframe tbody tr th:only-of-type {\n",
       "        vertical-align: middle;\n",
       "    }\n",
       "\n",
       "    .dataframe tbody tr th {\n",
       "        vertical-align: top;\n",
       "    }\n",
       "\n",
       "    .dataframe thead th {\n",
       "        text-align: right;\n",
       "    }\n",
       "</style>\n",
       "<table border=\"1\" class=\"dataframe\">\n",
       "  <thead>\n",
       "    <tr style=\"text-align: right;\">\n",
       "      <th></th>\n",
       "      <th>fixed acidity</th>\n",
       "      <th>volatile acidity</th>\n",
       "      <th>citric acid</th>\n",
       "      <th>residual sugar</th>\n",
       "      <th>chlorides</th>\n",
       "      <th>free sulfur dioxide</th>\n",
       "      <th>total sulfur dioxide</th>\n",
       "      <th>density</th>\n",
       "      <th>pH</th>\n",
       "      <th>sulphates</th>\n",
       "      <th>alcohol</th>\n",
       "      <th>quality</th>\n",
       "      <th>is_white_wine</th>\n",
       "    </tr>\n",
       "  </thead>\n",
       "  <tbody>\n",
       "    <tr>\n",
       "      <th>0</th>\n",
       "      <td>7.0</td>\n",
       "      <td>0.27</td>\n",
       "      <td>0.36</td>\n",
       "      <td>20.7</td>\n",
       "      <td>0.045</td>\n",
       "      <td>45.0</td>\n",
       "      <td>170.0</td>\n",
       "      <td>1.0010</td>\n",
       "      <td>3.00</td>\n",
       "      <td>0.45</td>\n",
       "      <td>8.8</td>\n",
       "      <td>6</td>\n",
       "      <td>1</td>\n",
       "    </tr>\n",
       "    <tr>\n",
       "      <th>1</th>\n",
       "      <td>6.3</td>\n",
       "      <td>0.30</td>\n",
       "      <td>0.34</td>\n",
       "      <td>1.6</td>\n",
       "      <td>0.049</td>\n",
       "      <td>14.0</td>\n",
       "      <td>132.0</td>\n",
       "      <td>0.9940</td>\n",
       "      <td>3.30</td>\n",
       "      <td>0.49</td>\n",
       "      <td>9.5</td>\n",
       "      <td>6</td>\n",
       "      <td>1</td>\n",
       "    </tr>\n",
       "    <tr>\n",
       "      <th>2</th>\n",
       "      <td>8.1</td>\n",
       "      <td>0.28</td>\n",
       "      <td>0.40</td>\n",
       "      <td>6.9</td>\n",
       "      <td>0.050</td>\n",
       "      <td>30.0</td>\n",
       "      <td>97.0</td>\n",
       "      <td>0.9951</td>\n",
       "      <td>3.26</td>\n",
       "      <td>0.44</td>\n",
       "      <td>10.1</td>\n",
       "      <td>6</td>\n",
       "      <td>1</td>\n",
       "    </tr>\n",
       "    <tr>\n",
       "      <th>3</th>\n",
       "      <td>7.2</td>\n",
       "      <td>0.23</td>\n",
       "      <td>0.32</td>\n",
       "      <td>8.5</td>\n",
       "      <td>0.058</td>\n",
       "      <td>47.0</td>\n",
       "      <td>186.0</td>\n",
       "      <td>0.9956</td>\n",
       "      <td>3.19</td>\n",
       "      <td>0.40</td>\n",
       "      <td>9.9</td>\n",
       "      <td>6</td>\n",
       "      <td>1</td>\n",
       "    </tr>\n",
       "    <tr>\n",
       "      <th>4</th>\n",
       "      <td>7.2</td>\n",
       "      <td>0.23</td>\n",
       "      <td>0.32</td>\n",
       "      <td>8.5</td>\n",
       "      <td>0.058</td>\n",
       "      <td>47.0</td>\n",
       "      <td>186.0</td>\n",
       "      <td>0.9956</td>\n",
       "      <td>3.19</td>\n",
       "      <td>0.40</td>\n",
       "      <td>9.9</td>\n",
       "      <td>6</td>\n",
       "      <td>1</td>\n",
       "    </tr>\n",
       "  </tbody>\n",
       "</table>\n",
       "</div>"
      ],
      "text/plain": [
       "   fixed acidity  volatile acidity  citric acid  residual sugar  chlorides  \\\n",
       "0            7.0              0.27         0.36            20.7      0.045   \n",
       "1            6.3              0.30         0.34             1.6      0.049   \n",
       "2            8.1              0.28         0.40             6.9      0.050   \n",
       "3            7.2              0.23         0.32             8.5      0.058   \n",
       "4            7.2              0.23         0.32             8.5      0.058   \n",
       "\n",
       "   free sulfur dioxide  total sulfur dioxide  density    pH  sulphates  \\\n",
       "0                 45.0                 170.0   1.0010  3.00       0.45   \n",
       "1                 14.0                 132.0   0.9940  3.30       0.49   \n",
       "2                 30.0                  97.0   0.9951  3.26       0.44   \n",
       "3                 47.0                 186.0   0.9956  3.19       0.40   \n",
       "4                 47.0                 186.0   0.9956  3.19       0.40   \n",
       "\n",
       "   alcohol  quality  is_white_wine  \n",
       "0      8.8        6              1  \n",
       "1      9.5        6              1  \n",
       "2     10.1        6              1  \n",
       "3      9.9        6              1  \n",
       "4      9.9        6              1  "
      ]
     },
     "execution_count": 12,
     "metadata": {},
     "output_type": "execute_result"
    }
   ],
   "source": [
    "df.head()"
   ]
  },
  {
   "cell_type": "code",
   "execution_count": 13,
   "id": "5c8693f6-7de1-40f1-9046-20d8c2525e45",
   "metadata": {},
   "outputs": [
    {
     "data": {
      "text/plain": [
       "6    2820\n",
       "5    2128\n",
       "7    1074\n",
       "4     214\n",
       "8     192\n",
       "3      30\n",
       "9       5\n",
       "Name: quality, dtype: int64"
      ]
     },
     "execution_count": 13,
     "metadata": {},
     "output_type": "execute_result"
    }
   ],
   "source": [
    "df['quality'].value_counts()"
   ]
  },
  {
   "cell_type": "code",
   "execution_count": 14,
   "id": "8dc1b823-5b48-4c94-b334-b3909dee6eee",
   "metadata": {},
   "outputs": [],
   "source": [
    "df['is_good_wine'] = [1 if quality >=6 else 0 for quality in df['quality']]"
   ]
  },
  {
   "cell_type": "code",
   "execution_count": 15,
   "id": "60f715ad-47ea-489f-aab1-f83bee21fa11",
   "metadata": {},
   "outputs": [],
   "source": [
    "df.drop('quality', axis = 1, inplace = True)"
   ]
  },
  {
   "cell_type": "code",
   "execution_count": 16,
   "id": "6c43a1b0-9399-4340-acbf-505f95b91764",
   "metadata": {},
   "outputs": [
    {
     "data": {
      "text/html": [
       "<div>\n",
       "<style scoped>\n",
       "    .dataframe tbody tr th:only-of-type {\n",
       "        vertical-align: middle;\n",
       "    }\n",
       "\n",
       "    .dataframe tbody tr th {\n",
       "        vertical-align: top;\n",
       "    }\n",
       "\n",
       "    .dataframe thead th {\n",
       "        text-align: right;\n",
       "    }\n",
       "</style>\n",
       "<table border=\"1\" class=\"dataframe\">\n",
       "  <thead>\n",
       "    <tr style=\"text-align: right;\">\n",
       "      <th></th>\n",
       "      <th>fixed acidity</th>\n",
       "      <th>volatile acidity</th>\n",
       "      <th>citric acid</th>\n",
       "      <th>residual sugar</th>\n",
       "      <th>chlorides</th>\n",
       "      <th>free sulfur dioxide</th>\n",
       "      <th>total sulfur dioxide</th>\n",
       "      <th>density</th>\n",
       "      <th>pH</th>\n",
       "      <th>sulphates</th>\n",
       "      <th>alcohol</th>\n",
       "      <th>is_white_wine</th>\n",
       "      <th>is_good_wine</th>\n",
       "    </tr>\n",
       "  </thead>\n",
       "  <tbody>\n",
       "    <tr>\n",
       "      <th>0</th>\n",
       "      <td>7.0</td>\n",
       "      <td>0.27</td>\n",
       "      <td>0.36</td>\n",
       "      <td>20.7</td>\n",
       "      <td>0.045</td>\n",
       "      <td>45.0</td>\n",
       "      <td>170.0</td>\n",
       "      <td>1.0010</td>\n",
       "      <td>3.00</td>\n",
       "      <td>0.45</td>\n",
       "      <td>8.8</td>\n",
       "      <td>1</td>\n",
       "      <td>1</td>\n",
       "    </tr>\n",
       "    <tr>\n",
       "      <th>1</th>\n",
       "      <td>6.3</td>\n",
       "      <td>0.30</td>\n",
       "      <td>0.34</td>\n",
       "      <td>1.6</td>\n",
       "      <td>0.049</td>\n",
       "      <td>14.0</td>\n",
       "      <td>132.0</td>\n",
       "      <td>0.9940</td>\n",
       "      <td>3.30</td>\n",
       "      <td>0.49</td>\n",
       "      <td>9.5</td>\n",
       "      <td>1</td>\n",
       "      <td>1</td>\n",
       "    </tr>\n",
       "    <tr>\n",
       "      <th>2</th>\n",
       "      <td>8.1</td>\n",
       "      <td>0.28</td>\n",
       "      <td>0.40</td>\n",
       "      <td>6.9</td>\n",
       "      <td>0.050</td>\n",
       "      <td>30.0</td>\n",
       "      <td>97.0</td>\n",
       "      <td>0.9951</td>\n",
       "      <td>3.26</td>\n",
       "      <td>0.44</td>\n",
       "      <td>10.1</td>\n",
       "      <td>1</td>\n",
       "      <td>1</td>\n",
       "    </tr>\n",
       "    <tr>\n",
       "      <th>3</th>\n",
       "      <td>7.2</td>\n",
       "      <td>0.23</td>\n",
       "      <td>0.32</td>\n",
       "      <td>8.5</td>\n",
       "      <td>0.058</td>\n",
       "      <td>47.0</td>\n",
       "      <td>186.0</td>\n",
       "      <td>0.9956</td>\n",
       "      <td>3.19</td>\n",
       "      <td>0.40</td>\n",
       "      <td>9.9</td>\n",
       "      <td>1</td>\n",
       "      <td>1</td>\n",
       "    </tr>\n",
       "    <tr>\n",
       "      <th>4</th>\n",
       "      <td>7.2</td>\n",
       "      <td>0.23</td>\n",
       "      <td>0.32</td>\n",
       "      <td>8.5</td>\n",
       "      <td>0.058</td>\n",
       "      <td>47.0</td>\n",
       "      <td>186.0</td>\n",
       "      <td>0.9956</td>\n",
       "      <td>3.19</td>\n",
       "      <td>0.40</td>\n",
       "      <td>9.9</td>\n",
       "      <td>1</td>\n",
       "      <td>1</td>\n",
       "    </tr>\n",
       "  </tbody>\n",
       "</table>\n",
       "</div>"
      ],
      "text/plain": [
       "   fixed acidity  volatile acidity  citric acid  residual sugar  chlorides  \\\n",
       "0            7.0              0.27         0.36            20.7      0.045   \n",
       "1            6.3              0.30         0.34             1.6      0.049   \n",
       "2            8.1              0.28         0.40             6.9      0.050   \n",
       "3            7.2              0.23         0.32             8.5      0.058   \n",
       "4            7.2              0.23         0.32             8.5      0.058   \n",
       "\n",
       "   free sulfur dioxide  total sulfur dioxide  density    pH  sulphates  \\\n",
       "0                 45.0                 170.0   1.0010  3.00       0.45   \n",
       "1                 14.0                 132.0   0.9940  3.30       0.49   \n",
       "2                 30.0                  97.0   0.9951  3.26       0.44   \n",
       "3                 47.0                 186.0   0.9956  3.19       0.40   \n",
       "4                 47.0                 186.0   0.9956  3.19       0.40   \n",
       "\n",
       "   alcohol  is_white_wine  is_good_wine  \n",
       "0      8.8              1             1  \n",
       "1      9.5              1             1  \n",
       "2     10.1              1             1  \n",
       "3      9.9              1             1  \n",
       "4      9.9              1             1  "
      ]
     },
     "execution_count": 16,
     "metadata": {},
     "output_type": "execute_result"
    }
   ],
   "source": [
    "df.head()"
   ]
  },
  {
   "cell_type": "markdown",
   "id": "0cd63aba-d035-4e9e-98fa-9087d66bb152",
   "metadata": {},
   "source": [
    "Classification"
   ]
  },
  {
   "cell_type": "code",
   "execution_count": 17,
   "id": "b2100b18-d991-4e57-8cbf-8b7eb7b40a88",
   "metadata": {},
   "outputs": [],
   "source": [
    "from sklearn.model_selection import train_test_split"
   ]
  },
  {
   "cell_type": "code",
   "execution_count": 18,
   "id": "e34e46f2-bffa-4512-b836-18a72fd3696d",
   "metadata": {},
   "outputs": [],
   "source": [
    "X = df.drop('is_good_wine', axis =1)\n",
    "y = df['is_good_wine']\n",
    "\n",
    "X_train, X_test, y_train, y_test = train_test_split(X, y, test_size = 0.2, random_state=42)"
   ]
  },
  {
   "cell_type": "code",
   "execution_count": 19,
   "id": "9b049364-db50-4751-a44a-598ec8570af7",
   "metadata": {},
   "outputs": [
    {
     "data": {
      "text/plain": [
       "((5170, 12), (1293, 12))"
      ]
     },
     "execution_count": 19,
     "metadata": {},
     "output_type": "execute_result"
    }
   ],
   "source": [
    "X_train.shape,X_test.shape"
   ]
  },
  {
   "cell_type": "code",
   "execution_count": 20,
   "id": "e7e0c462-1481-49d5-a6ce-b24fc0da39cc",
   "metadata": {},
   "outputs": [
    {
     "data": {
      "text/html": [
       "<div>\n",
       "<style scoped>\n",
       "    .dataframe tbody tr th:only-of-type {\n",
       "        vertical-align: middle;\n",
       "    }\n",
       "\n",
       "    .dataframe tbody tr th {\n",
       "        vertical-align: top;\n",
       "    }\n",
       "\n",
       "    .dataframe thead th {\n",
       "        text-align: right;\n",
       "    }\n",
       "</style>\n",
       "<table border=\"1\" class=\"dataframe\">\n",
       "  <thead>\n",
       "    <tr style=\"text-align: right;\">\n",
       "      <th></th>\n",
       "      <th>fixed acidity</th>\n",
       "      <th>volatile acidity</th>\n",
       "      <th>citric acid</th>\n",
       "      <th>residual sugar</th>\n",
       "      <th>chlorides</th>\n",
       "      <th>free sulfur dioxide</th>\n",
       "      <th>total sulfur dioxide</th>\n",
       "      <th>density</th>\n",
       "      <th>pH</th>\n",
       "      <th>sulphates</th>\n",
       "      <th>alcohol</th>\n",
       "      <th>is_white_wine</th>\n",
       "    </tr>\n",
       "  </thead>\n",
       "  <tbody>\n",
       "    <tr>\n",
       "      <th>459</th>\n",
       "      <td>6.1</td>\n",
       "      <td>0.43</td>\n",
       "      <td>0.35</td>\n",
       "      <td>9.1</td>\n",
       "      <td>0.059</td>\n",
       "      <td>83.0</td>\n",
       "      <td>249.0</td>\n",
       "      <td>0.99710</td>\n",
       "      <td>3.37</td>\n",
       "      <td>0.50</td>\n",
       "      <td>8.500000</td>\n",
       "      <td>1</td>\n",
       "    </tr>\n",
       "    <tr>\n",
       "      <th>1460</th>\n",
       "      <td>8.5</td>\n",
       "      <td>0.17</td>\n",
       "      <td>0.74</td>\n",
       "      <td>3.6</td>\n",
       "      <td>0.050</td>\n",
       "      <td>29.0</td>\n",
       "      <td>128.0</td>\n",
       "      <td>0.99280</td>\n",
       "      <td>3.28</td>\n",
       "      <td>0.40</td>\n",
       "      <td>12.400000</td>\n",
       "      <td>1</td>\n",
       "    </tr>\n",
       "    <tr>\n",
       "      <th>4403</th>\n",
       "      <td>5.2</td>\n",
       "      <td>0.22</td>\n",
       "      <td>0.46</td>\n",
       "      <td>6.2</td>\n",
       "      <td>0.066</td>\n",
       "      <td>41.0</td>\n",
       "      <td>187.0</td>\n",
       "      <td>0.99362</td>\n",
       "      <td>3.19</td>\n",
       "      <td>0.42</td>\n",
       "      <td>9.733333</td>\n",
       "      <td>1</td>\n",
       "    </tr>\n",
       "    <tr>\n",
       "      <th>3828</th>\n",
       "      <td>6.3</td>\n",
       "      <td>0.40</td>\n",
       "      <td>0.24</td>\n",
       "      <td>5.1</td>\n",
       "      <td>0.036</td>\n",
       "      <td>43.0</td>\n",
       "      <td>131.0</td>\n",
       "      <td>0.99186</td>\n",
       "      <td>3.24</td>\n",
       "      <td>0.44</td>\n",
       "      <td>11.300000</td>\n",
       "      <td>1</td>\n",
       "    </tr>\n",
       "    <tr>\n",
       "      <th>4317</th>\n",
       "      <td>6.7</td>\n",
       "      <td>0.34</td>\n",
       "      <td>0.26</td>\n",
       "      <td>1.9</td>\n",
       "      <td>0.038</td>\n",
       "      <td>58.0</td>\n",
       "      <td>138.0</td>\n",
       "      <td>0.98930</td>\n",
       "      <td>3.00</td>\n",
       "      <td>0.47</td>\n",
       "      <td>12.200000</td>\n",
       "      <td>1</td>\n",
       "    </tr>\n",
       "  </tbody>\n",
       "</table>\n",
       "</div>"
      ],
      "text/plain": [
       "      fixed acidity  volatile acidity  citric acid  residual sugar  chlorides  \\\n",
       "459             6.1              0.43         0.35             9.1      0.059   \n",
       "1460            8.5              0.17         0.74             3.6      0.050   \n",
       "4403            5.2              0.22         0.46             6.2      0.066   \n",
       "3828            6.3              0.40         0.24             5.1      0.036   \n",
       "4317            6.7              0.34         0.26             1.9      0.038   \n",
       "\n",
       "      free sulfur dioxide  total sulfur dioxide  density    pH  sulphates  \\\n",
       "459                  83.0                 249.0  0.99710  3.37       0.50   \n",
       "1460                 29.0                 128.0  0.99280  3.28       0.40   \n",
       "4403                 41.0                 187.0  0.99362  3.19       0.42   \n",
       "3828                 43.0                 131.0  0.99186  3.24       0.44   \n",
       "4317                 58.0                 138.0  0.98930  3.00       0.47   \n",
       "\n",
       "        alcohol  is_white_wine  \n",
       "459    8.500000              1  \n",
       "1460  12.400000              1  \n",
       "4403   9.733333              1  \n",
       "3828  11.300000              1  \n",
       "4317  12.200000              1  "
      ]
     },
     "execution_count": 20,
     "metadata": {},
     "output_type": "execute_result"
    }
   ],
   "source": [
    "X_train.head()"
   ]
  },
  {
   "cell_type": "code",
   "execution_count": 21,
   "id": "2542808f-e4e3-4a2f-b74b-e4dac799be38",
   "metadata": {},
   "outputs": [],
   "source": [
    "from sklearn.preprocessing import StandardScaler\n",
    "\n",
    "scaler = StandardScaler()\n",
    "X_train_scaled = scaler.fit_transform(X_train)\n",
    "X_test_scaled = scaler.fit_transform(X_test)"
   ]
  },
  {
   "cell_type": "code",
   "execution_count": 51,
   "id": "633547c0-3a8f-4167-a02e-075ac4286b16",
   "metadata": {},
   "outputs": [],
   "source": [
    "import tensorflow as tf\n",
    "tf.random.set_seed(42)"
   ]
  },
  {
   "cell_type": "markdown",
   "id": "7a71d367-e016-4836-84de-9368df21b94a",
   "metadata": {},
   "source": [
    "# Optimize Learning Rate"
   ]
  },
  {
   "cell_type": "code",
   "execution_count": 53,
   "id": "1413d8a8-d75c-4c27-b422-f38a671e9ff6",
   "metadata": {},
   "outputs": [
    {
     "data": {
      "text/plain": [
       "0.0010797751623277097"
      ]
     },
     "execution_count": 53,
     "metadata": {},
     "output_type": "execute_result"
    }
   ],
   "source": [
    "1e-3 *10 ** (1/30)"
   ]
  },
  {
   "cell_type": "code",
   "execution_count": 54,
   "id": "6e37d01b-b270-4d86-95c3-5694683cf1fc",
   "metadata": {},
   "outputs": [
    {
     "data": {
      "text/plain": [
       "2.1544346900318847"
      ]
     },
     "execution_count": 54,
     "metadata": {},
     "output_type": "execute_result"
    }
   ],
   "source": [
    "1e-3 *10 ** (100/30)"
   ]
  },
  {
   "cell_type": "code",
   "execution_count": 55,
   "id": "613d76ac-a09a-4b02-856a-0fe16fb9f26c",
   "metadata": {
    "tags": []
   },
   "outputs": [],
   "source": [
    "initial_model = tf.keras.Sequential([\n",
    "    tf.keras.layers.Dense(128, activation = 'relu'),\n",
    "    tf.keras.layers.Dense(256, activation = 'relu'),\n",
    "    tf.keras.layers.Dense(256, activation = 'relu'),\n",
    "    tf.keras.layers.Dense(1, activation = 'sigmoid'),\n",
    "])"
   ]
  },
  {
   "cell_type": "code",
   "execution_count": 60,
   "id": "d7378546-e659-4e6e-b6c2-d806b73cc5d6",
   "metadata": {},
   "outputs": [],
   "source": [
    "initial_model.compile(\n",
    "    loss = tf.losses.binary_crossentropy,\n",
    "    optimizer = tf.keras.optimizers.Adam(),\n",
    "    metrics = tf.keras.metrics.BinaryAccuracy(name='accuracy')\n",
    ")"
   ]
  },
  {
   "cell_type": "code",
   "execution_count": 65,
   "id": "7ac14996-1a45-4a45-b6ee-0cb205e1c7cc",
   "metadata": {},
   "outputs": [
    {
     "name": "stdout",
     "output_type": "stream",
     "text": [
      "Epoch 1/100\n",
      "162/162 [==============================] - 0s 956us/step - loss: 0.4221 - accuracy: 0.7880 - lr: 0.0010\n",
      "Epoch 2/100\n",
      "162/162 [==============================] - 0s 972us/step - loss: 0.4011 - accuracy: 0.8023 - lr: 0.0011\n",
      "Epoch 3/100\n",
      "162/162 [==============================] - 0s 951us/step - loss: 0.3847 - accuracy: 0.8143 - lr: 0.0012\n",
      "Epoch 4/100\n",
      "162/162 [==============================] - 0s 932us/step - loss: 0.3712 - accuracy: 0.8267 - lr: 0.0013\n",
      "Epoch 5/100\n",
      "162/162 [==============================] - 0s 935us/step - loss: 0.3606 - accuracy: 0.8360 - lr: 0.0014\n",
      "Epoch 6/100\n",
      "162/162 [==============================] - 0s 957us/step - loss: 0.3502 - accuracy: 0.8404 - lr: 0.0015\n",
      "Epoch 7/100\n",
      "162/162 [==============================] - 0s 949us/step - loss: 0.3422 - accuracy: 0.8458 - lr: 0.0016\n",
      "Epoch 8/100\n",
      "162/162 [==============================] - 0s 954us/step - loss: 0.3359 - accuracy: 0.8497 - lr: 0.0017\n",
      "Epoch 9/100\n",
      "162/162 [==============================] - 0s 975us/step - loss: 0.3257 - accuracy: 0.8555 - lr: 0.0018\n",
      "Epoch 10/100\n",
      "162/162 [==============================] - 0s 965us/step - loss: 0.3187 - accuracy: 0.8582 - lr: 0.0020\n",
      "Epoch 11/100\n",
      "162/162 [==============================] - 0s 944us/step - loss: 0.3117 - accuracy: 0.8634 - lr: 0.0022\n",
      "Epoch 12/100\n",
      "162/162 [==============================] - 0s 1ms/step - loss: 0.3049 - accuracy: 0.8702 - lr: 0.0023\n",
      "Epoch 13/100\n",
      "162/162 [==============================] - 0s 932us/step - loss: 0.3002 - accuracy: 0.8694 - lr: 0.0025\n",
      "Epoch 14/100\n",
      "162/162 [==============================] - 0s 953us/step - loss: 0.2971 - accuracy: 0.8704 - lr: 0.0027\n",
      "Epoch 15/100\n",
      "162/162 [==============================] - 0s 961us/step - loss: 0.2914 - accuracy: 0.8762 - lr: 0.0029\n",
      "Epoch 16/100\n",
      "162/162 [==============================] - 0s 990us/step - loss: 0.2873 - accuracy: 0.8762 - lr: 0.0032\n",
      "Epoch 17/100\n",
      "162/162 [==============================] - 0s 954us/step - loss: 0.2839 - accuracy: 0.8791 - lr: 0.0034\n",
      "Epoch 18/100\n",
      "162/162 [==============================] - 0s 946us/step - loss: 0.2815 - accuracy: 0.8816 - lr: 0.0037\n",
      "Epoch 19/100\n",
      "162/162 [==============================] - 0s 959us/step - loss: 0.2782 - accuracy: 0.8826 - lr: 0.0040\n",
      "Epoch 20/100\n",
      "162/162 [==============================] - 0s 940us/step - loss: 0.2778 - accuracy: 0.8828 - lr: 0.0043\n",
      "Epoch 21/100\n",
      "162/162 [==============================] - 0s 966us/step - loss: 0.2701 - accuracy: 0.8857 - lr: 0.0046\n",
      "Epoch 22/100\n",
      "162/162 [==============================] - 0s 952us/step - loss: 0.2722 - accuracy: 0.8874 - lr: 0.0050\n",
      "Epoch 23/100\n",
      "162/162 [==============================] - 0s 1ms/step - loss: 0.2807 - accuracy: 0.8797 - lr: 0.0054\n",
      "Epoch 24/100\n",
      "162/162 [==============================] - 0s 957us/step - loss: 0.2744 - accuracy: 0.8841 - lr: 0.0058\n",
      "Epoch 25/100\n",
      "162/162 [==============================] - 0s 948us/step - loss: 0.2720 - accuracy: 0.8870 - lr: 0.0063\n",
      "Epoch 26/100\n",
      "162/162 [==============================] - 0s 961us/step - loss: 0.2707 - accuracy: 0.8892 - lr: 0.0068\n",
      "Epoch 27/100\n",
      "162/162 [==============================] - 0s 998us/step - loss: 0.2663 - accuracy: 0.8928 - lr: 0.0074\n",
      "Epoch 28/100\n",
      "162/162 [==============================] - 0s 941us/step - loss: 0.2629 - accuracy: 0.8946 - lr: 0.0079\n",
      "Epoch 29/100\n",
      "162/162 [==============================] - 0s 998us/step - loss: 0.2698 - accuracy: 0.8878 - lr: 0.0086\n",
      "Epoch 30/100\n",
      "162/162 [==============================] - 0s 985us/step - loss: 0.2722 - accuracy: 0.8872 - lr: 0.0093\n",
      "Epoch 31/100\n",
      "162/162 [==============================] - 0s 934us/step - loss: 0.2716 - accuracy: 0.8870 - lr: 0.0100\n",
      "Epoch 32/100\n",
      "162/162 [==============================] - 0s 950us/step - loss: 0.2787 - accuracy: 0.8884 - lr: 0.0108\n",
      "Epoch 33/100\n",
      "162/162 [==============================] - 0s 963us/step - loss: 0.2705 - accuracy: 0.8899 - lr: 0.0117\n",
      "Epoch 34/100\n",
      "162/162 [==============================] - 0s 955us/step - loss: 0.2844 - accuracy: 0.8855 - lr: 0.0126\n",
      "Epoch 35/100\n",
      "162/162 [==============================] - 0s 966us/step - loss: 0.2782 - accuracy: 0.8899 - lr: 0.0136\n",
      "Epoch 36/100\n",
      "162/162 [==============================] - 0s 952us/step - loss: 0.2819 - accuracy: 0.8867 - lr: 0.0147\n",
      "Epoch 37/100\n",
      "162/162 [==============================] - 0s 986us/step - loss: 0.2898 - accuracy: 0.8836 - lr: 0.0158\n",
      "Epoch 38/100\n",
      "162/162 [==============================] - 0s 980us/step - loss: 0.3130 - accuracy: 0.8731 - lr: 0.0171\n",
      "Epoch 39/100\n",
      "162/162 [==============================] - 0s 950us/step - loss: 0.3210 - accuracy: 0.8671 - lr: 0.0185\n",
      "Epoch 40/100\n",
      "162/162 [==============================] - 0s 935us/step - loss: 0.3014 - accuracy: 0.8760 - lr: 0.0200\n",
      "Epoch 41/100\n",
      "162/162 [==============================] - 0s 956us/step - loss: 0.3140 - accuracy: 0.8718 - lr: 0.0215\n",
      "Epoch 42/100\n",
      "162/162 [==============================] - 0s 951us/step - loss: 0.3184 - accuracy: 0.8706 - lr: 0.0233\n",
      "Epoch 43/100\n",
      "162/162 [==============================] - 0s 936us/step - loss: 0.3512 - accuracy: 0.8573 - lr: 0.0251\n",
      "Epoch 44/100\n",
      "162/162 [==============================] - 0s 983us/step - loss: 0.3461 - accuracy: 0.8576 - lr: 0.0271\n",
      "Epoch 45/100\n",
      "162/162 [==============================] - 0s 935us/step - loss: 0.4390 - accuracy: 0.8128 - lr: 0.0293\n",
      "Epoch 46/100\n",
      "162/162 [==============================] - 0s 972us/step - loss: 0.4084 - accuracy: 0.8292 - lr: 0.0316\n",
      "Epoch 47/100\n",
      "162/162 [==============================] - 0s 957us/step - loss: 0.4489 - accuracy: 0.7884 - lr: 0.0341\n",
      "Epoch 48/100\n",
      "162/162 [==============================] - 0s 944us/step - loss: 0.5211 - accuracy: 0.7089 - lr: 0.0369\n",
      "Epoch 49/100\n",
      "162/162 [==============================] - 0s 931us/step - loss: 0.6010 - accuracy: 0.6540 - lr: 0.0398\n",
      "Epoch 50/100\n",
      "162/162 [==============================] - 0s 929us/step - loss: 0.6706 - accuracy: 0.6381 - lr: 0.0430\n",
      "Epoch 51/100\n",
      "162/162 [==============================] - 0s 978us/step - loss: 0.6578 - accuracy: 0.6344 - lr: 0.0464\n",
      "Epoch 52/100\n",
      "162/162 [==============================] - 0s 976us/step - loss: 0.6568 - accuracy: 0.6344 - lr: 0.0501\n",
      "Epoch 53/100\n",
      "162/162 [==============================] - 0s 975us/step - loss: 0.6580 - accuracy: 0.6344 - lr: 0.0541\n",
      "Epoch 54/100\n",
      "162/162 [==============================] - 0s 966us/step - loss: 0.6598 - accuracy: 0.6344 - lr: 0.0584\n",
      "Epoch 55/100\n",
      "162/162 [==============================] - 0s 1ms/step - loss: 0.6574 - accuracy: 0.6344 - lr: 0.0631\n",
      "Epoch 56/100\n",
      "162/162 [==============================] - 0s 969us/step - loss: 0.6581 - accuracy: 0.6344 - lr: 0.0681\n",
      "Epoch 57/100\n",
      "162/162 [==============================] - 0s 956us/step - loss: 0.6597 - accuracy: 0.6344 - lr: 0.0736\n",
      "Epoch 58/100\n",
      "162/162 [==============================] - 0s 984us/step - loss: 0.6588 - accuracy: 0.6344 - lr: 0.0794\n",
      "Epoch 59/100\n",
      "162/162 [==============================] - 0s 958us/step - loss: 0.6572 - accuracy: 0.6344 - lr: 0.0858\n",
      "Epoch 60/100\n",
      "162/162 [==============================] - 0s 963us/step - loss: 0.6578 - accuracy: 0.6344 - lr: 0.0926\n",
      "Epoch 61/100\n",
      "162/162 [==============================] - 0s 935us/step - loss: 0.6603 - accuracy: 0.6344 - lr: 0.1000\n",
      "Epoch 62/100\n",
      "162/162 [==============================] - 0s 951us/step - loss: 0.6591 - accuracy: 0.6344 - lr: 0.1080\n",
      "Epoch 63/100\n",
      "162/162 [==============================] - 0s 955us/step - loss: 0.6599 - accuracy: 0.6344 - lr: 0.1166\n",
      "Epoch 64/100\n",
      "162/162 [==============================] - 0s 976us/step - loss: 0.6585 - accuracy: 0.6344 - lr: 0.1259\n",
      "Epoch 65/100\n",
      "162/162 [==============================] - 0s 961us/step - loss: 0.6601 - accuracy: 0.6344 - lr: 0.1359\n",
      "Epoch 66/100\n",
      "162/162 [==============================] - 0s 951us/step - loss: 0.6602 - accuracy: 0.6344 - lr: 0.1468\n",
      "Epoch 67/100\n",
      "162/162 [==============================] - 0s 966us/step - loss: 0.6604 - accuracy: 0.6344 - lr: 0.1585\n",
      "Epoch 68/100\n",
      "162/162 [==============================] - 0s 957us/step - loss: 0.6589 - accuracy: 0.6344 - lr: 0.1711\n",
      "Epoch 69/100\n",
      "162/162 [==============================] - 0s 952us/step - loss: 0.6612 - accuracy: 0.6344 - lr: 0.1848\n",
      "Epoch 70/100\n",
      "162/162 [==============================] - 0s 936us/step - loss: 0.6622 - accuracy: 0.6344 - lr: 0.1995\n",
      "Epoch 71/100\n",
      "162/162 [==============================] - 0s 978us/step - loss: 0.6596 - accuracy: 0.6344 - lr: 0.2154\n",
      "Epoch 72/100\n",
      "162/162 [==============================] - 0s 969us/step - loss: 0.6609 - accuracy: 0.6294 - lr: 0.2326\n",
      "Epoch 73/100\n",
      "162/162 [==============================] - 0s 950us/step - loss: 0.6636 - accuracy: 0.6313 - lr: 0.2512\n",
      "Epoch 74/100\n",
      "162/162 [==============================] - 0s 960us/step - loss: 0.6623 - accuracy: 0.6344 - lr: 0.2712\n",
      "Epoch 75/100\n",
      "162/162 [==============================] - 0s 936us/step - loss: 0.6628 - accuracy: 0.6344 - lr: 0.2929\n",
      "Epoch 76/100\n",
      "162/162 [==============================] - 0s 987us/step - loss: 0.6625 - accuracy: 0.6344 - lr: 0.3162\n",
      "Epoch 77/100\n",
      "162/162 [==============================] - 0s 973us/step - loss: 0.6632 - accuracy: 0.6275 - lr: 0.3415\n",
      "Epoch 78/100\n",
      "162/162 [==============================] - 0s 976us/step - loss: 0.6628 - accuracy: 0.6313 - lr: 0.3687\n",
      "Epoch 79/100\n",
      "162/162 [==============================] - 0s 958us/step - loss: 0.6619 - accuracy: 0.6344 - lr: 0.3981\n",
      "Epoch 80/100\n",
      "162/162 [==============================] - 0s 934us/step - loss: 0.6610 - accuracy: 0.6344 - lr: 0.4299\n",
      "Epoch 81/100\n",
      "162/162 [==============================] - 0s 983us/step - loss: 0.6643 - accuracy: 0.6344 - lr: 0.4642\n",
      "Epoch 82/100\n",
      "162/162 [==============================] - 0s 962us/step - loss: 0.6708 - accuracy: 0.6201 - lr: 0.5012\n",
      "Epoch 83/100\n",
      "162/162 [==============================] - 0s 937us/step - loss: 0.6691 - accuracy: 0.6344 - lr: 0.5412\n",
      "Epoch 84/100\n",
      "162/162 [==============================] - 0s 946us/step - loss: 0.6677 - accuracy: 0.6217 - lr: 0.5843\n",
      "Epoch 85/100\n",
      "162/162 [==============================] - 0s 983us/step - loss: 0.6785 - accuracy: 0.6116 - lr: 0.6310\n",
      "Epoch 86/100\n",
      "162/162 [==============================] - 0s 950us/step - loss: 0.6675 - accuracy: 0.6201 - lr: 0.6813\n",
      "Epoch 87/100\n",
      "162/162 [==============================] - 0s 939us/step - loss: 0.6683 - accuracy: 0.6251 - lr: 0.7356\n",
      "Epoch 88/100\n",
      "162/162 [==============================] - 0s 931us/step - loss: 0.6714 - accuracy: 0.6232 - lr: 0.7943\n",
      "Epoch 89/100\n",
      "162/162 [==============================] - 0s 949us/step - loss: 0.6692 - accuracy: 0.6244 - lr: 0.8577\n",
      "Epoch 90/100\n",
      "162/162 [==============================] - 0s 957us/step - loss: 0.6775 - accuracy: 0.6081 - lr: 0.9261\n",
      "Epoch 91/100\n",
      "162/162 [==============================] - 0s 942us/step - loss: 0.6733 - accuracy: 0.6124 - lr: 1.0000\n",
      "Epoch 92/100\n",
      "162/162 [==============================] - 0s 973us/step - loss: 0.6802 - accuracy: 0.6054 - lr: 1.0798\n",
      "Epoch 93/100\n",
      "162/162 [==============================] - 0s 952us/step - loss: 0.6675 - accuracy: 0.6213 - lr: 1.1659\n",
      "Epoch 94/100\n",
      "162/162 [==============================] - 0s 960us/step - loss: 0.6663 - accuracy: 0.6306 - lr: 1.2589\n",
      "Epoch 95/100\n",
      "162/162 [==============================] - 0s 955us/step - loss: 0.6735 - accuracy: 0.6178 - lr: 1.3594\n",
      "Epoch 96/100\n",
      "162/162 [==============================] - 0s 1ms/step - loss: 0.6807 - accuracy: 0.6104 - lr: 1.4678\n",
      "Epoch 97/100\n",
      "162/162 [==============================] - 0s 951us/step - loss: 0.6811 - accuracy: 0.6015 - lr: 1.5849\n",
      "Epoch 98/100\n",
      "162/162 [==============================] - 0s 948us/step - loss: 0.6855 - accuracy: 0.5938 - lr: 1.7113\n",
      "Epoch 99/100\n",
      "162/162 [==============================] - 0s 978us/step - loss: 0.7143 - accuracy: 0.5807 - lr: 1.8478\n",
      "Epoch 100/100\n",
      "162/162 [==============================] - 0s 947us/step - loss: 0.6812 - accuracy: 0.5950 - lr: 1.9953\n"
     ]
    }
   ],
   "source": [
    "initial_history = initial_model.fit(\n",
    "    X_train_scaled,\n",
    "    y_train,\n",
    "    epochs = 100,\n",
    "    callbacks=[\n",
    "        tf.keras.callbacks.LearningRateScheduler(lambda epoch:1e-3 *10 **(epoch/30))\n",
    "    ]\n",
    ")"
   ]
  },
  {
   "cell_type": "code",
   "execution_count": 66,
   "id": "2ac628db-eeca-4e5c-9d79-e480efaec76f",
   "metadata": {},
   "outputs": [
    {
     "data": {
      "text/plain": [
       "<matplotlib.legend.Legend at 0x1def2619430>"
      ]
     },
     "execution_count": 66,
     "metadata": {},
     "output_type": "execute_result"
    },
    {
     "data": {
      "image/png": "[encoded data removed]",
      "text/plain": [
       "<Figure size 1296x576 with 1 Axes>"
      ]
     },
     "metadata": {
      "needs_background": "light"
     },
     "output_type": "display_data"
    }
   ],
   "source": [
    "import matplotlib.pyplot as plt\n",
    "\n",
    "plt.plot(np.arange(1, 101), initial_history.history['loss'], label = 'Loss', lw=3)\n",
    "plt.plot(np.arange(1, 101), initial_history.history['accuracy'], label = 'Accuracy', lw=3)\n",
    "plt.plot(np.arange(1, 101), initial_history.history['lr'], label = 'Leraning rate', lw=3, color=\"#000\")\n",
    "plt.legend()"
   ]
  },
  {
   "cell_type": "code",
   "execution_count": 77,
   "id": "7e2aed35-5b68-4044-9e05-3fa22eaa375a",
   "metadata": {},
   "outputs": [
    {
     "name": "stdout",
     "output_type": "stream",
     "text": [
      "0.26285699009895325\n"
     ]
    },
    {
     "data": {
      "image/png": "[encoded data removed]",
      "text/plain": [
       "<Figure size 1296x576 with 1 Axes>"
      ]
     },
     "metadata": {
      "needs_background": "light"
     },
     "output_type": "display_data"
    }
   ],
   "source": [
    "learning_rates = 1e-3 * (10 **(np.arange(100)/ 30))\n",
    "plt.figure(figsize = (18,8))\n",
    "plt.semilogx(learning_rates, initial_history.history['loss'], lw=3)\n",
    "plt.xlabel('Learning rate')\n",
    "plt.ylabel('Loss')\n",
    "print(min(initial_history.history['loss']))"
   ]
  },
  {
   "cell_type": "markdown",
   "id": "c98423bd-fce2-4183-b956-012a9abeb8a5",
   "metadata": {},
   "source": [
    "# Optimal neural network architecture"
   ]
  },
  {
   "cell_type": "code",
   "execution_count": 131,
   "id": "4c3b5ec0-7a33-4be6-a581-c63070b14ba6",
   "metadata": {},
   "outputs": [],
   "source": [
    "num_layers= 3\n",
    "min_nodes_per_layer = 64\n",
    "max_nodes_per_layer = 256\n",
    "node_step_size = 64"
   ]
  },
  {
   "cell_type": "code",
   "execution_count": 135,
   "id": "b80bf5e9-ba1a-4437-acd0-3d9c56509bde",
   "metadata": {},
   "outputs": [
    {
     "data": {
      "text/plain": [
       "[64, 128, 192, 256]"
      ]
     },
     "execution_count": 135,
     "metadata": {},
     "output_type": "execute_result"
    }
   ],
   "source": [
    "node_options = list(range(\n",
    "    min_nodes_per_layer,\n",
    "    max_nodes_per_layer+1,\n",
    "    node_step_size\n",
    "))\n",
    "node_options"
   ]
  },
  {
   "cell_type": "code",
   "execution_count": 136,
   "id": "18c512b1-590f-4e3e-91f7-2216b3bf995f",
   "metadata": {},
   "outputs": [],
   "source": [
    "two_layer_possibilities = [nodeoptions, node_options]"
   ]
  },
  {
   "cell_type": "code",
   "execution_count": 138,
   "id": "202c09d8-0167-4ac5-bbd7-a8c546605763",
   "metadata": {},
   "outputs": [
    {
     "data": {
      "text/plain": [
       "[(64, 64),\n",
       " (64, 128),\n",
       " (64, 192),\n",
       " (64, 256),\n",
       " (128, 64),\n",
       " (128, 128),\n",
       " (128, 192),\n",
       " (128, 256),\n",
       " (192, 64),\n",
       " (192, 128),\n",
       " (192, 192),\n",
       " (192, 256),\n",
       " (256, 64),\n",
       " (256, 128),\n",
       " (256, 192),\n",
       " (256, 256)]"
      ]
     },
     "execution_count": 138,
     "metadata": {},
     "output_type": "execute_result"
    }
   ],
   "source": [
    "import itertools\n",
    "list(itertools.product(*two_layer_possibilities))"
   ]
  },
  {
   "cell_type": "code",
   "execution_count": 141,
   "id": "4e898b79-0bee-4a04-be5e-fdd961065290",
   "metadata": {},
   "outputs": [],
   "source": [
    "layer_possibilities = [node_options] * num_layers"
   ]
  },
  {
   "cell_type": "code",
   "execution_count": 142,
   "id": "edbc1362-3a2f-4ac7-a565-7a327e86045a",
   "metadata": {
    "tags": []
   },
   "outputs": [],
   "source": [
    "layer_node_permutations = list(itertools.product(*layer_possibilities))"
   ]
  },
  {
   "cell_type": "code",
   "execution_count": 153,
   "id": "9e6f1245-85d2-4f9d-a475-3545d00657f9",
   "metadata": {},
   "outputs": [],
   "source": [
    "models = []\n",
    "for permutation in layer_node_permutations:\n",
    "    model = tf.keras.Sequential()\n",
    "    model.add(tf.keras.layers.InputLayer(input_shape=(12,)))\n",
    "    model_name = ''\n",
    "    \n",
    "    for nodes_at_layers in permutation:\n",
    "        model.add(tf.keras.layers.Dense(nodes_at_layers, activation ='relu'))\n",
    "        model_name += f'dense{nodes_at_layers}_'\n",
    "        \n",
    "    model.add(tf.keras.layers.Dense(1, activation ='sigmoid'))\n",
    "    model._name = model_name[:-1]\n",
    "    \n",
    "    models.append(model)"
   ]
  },
  {
   "cell_type": "code",
   "execution_count": 154,
   "id": "e1d17603-cf38-443a-b1aa-ef2c54f09413",
   "metadata": {},
   "outputs": [
    {
     "name": "stdout",
     "output_type": "stream",
     "text": [
      "Model: \"dense64_dense64_dense64\"\n",
      "_________________________________________________________________\n",
      " Layer (type)                Output Shape              Param #   \n",
      "=================================================================\n",
      " dense_22 (Dense)            (None, 64)                832       \n",
      "                                                                 \n",
      " dense_23 (Dense)            (None, 64)                4160      \n",
      "                                                                 \n",
      " dense_24 (Dense)            (None, 64)                4160      \n",
      "                                                                 \n",
      " dense_25 (Dense)            (None, 1)                 65        \n",
      "                                                                 \n",
      "=================================================================\n",
      "Total params: 9,217\n",
      "Trainable params: 9,217\n",
      "Non-trainable params: 0\n",
      "_________________________________________________________________\n"
     ]
    }
   ],
   "source": [
    "models[0].summary()"
   ]
  },
  {
   "cell_type": "markdown",
   "id": "6dea1ac6-3d8c-4218-8d1e-2945a4bfccc9",
   "metadata": {
    "tags": []
   },
   "source": [
    "## Optimization Funtion"
   ]
  },
  {
   "cell_type": "code",
   "execution_count": 172,
   "id": "103d9d6c-39f4-487d-994c-c37e0c684953",
   "metadata": {},
   "outputs": [],
   "source": [
    "def get_models(num_layers: int,\n",
    "               min_nodes_per_layer: int,\n",
    "               max_nodes_per_layer: int,\n",
    "               node_step_size: int,\n",
    "               input_shape: tuple,\n",
    "               hidden_layer_activation: str = 'relu',\n",
    "               num_nodes_at_output: int = 1,\n",
    "               output_layer_activations: str = 'sigmoid'):\n",
    "    node_options = list(range(min_nodes_per_layer, max_nodes_per_layer + 1, node_step_size))\n",
    "    layer_possibilites = [node_options] * num_layers\n",
    "    layer_node_permutations = list(itertools.product(*layer_possibilites))\n",
    "    \n",
    "    models = []\n",
    "    for permutation in layer_node_permutations:\n",
    "        model = tf.keras.Sequential()\n",
    "        model.add(tf.keras.layers.InputLayer(input_shape=input_shape))\n",
    "        model_name = ''\n",
    "\n",
    "        for nodes_at_layers in permutation:\n",
    "            model.add(tf.keras.layers.Dense(nodes_at_layers, activation ='relu'))\n",
    "            model_name += f'dense{nodes_at_layers}_'\n",
    "\n",
    "        model.add(tf.keras.layers.Dense(1, activation ='sigmoid'))\n",
    "        model._name = model_name[:-1]\n",
    "        models.append(model)\n",
    "    \n",
    "    return models"
   ]
  },
  {
   "cell_type": "code",
   "execution_count": 173,
   "id": "c8e2d1b9-87d4-43d8-aa80-13d5c789373e",
   "metadata": {},
   "outputs": [],
   "source": [
    "all_models = get_models(\n",
    "    num_layers= 3,\n",
    "    min_nodes_per_layer = 64,\n",
    "    max_nodes_per_layer = 256,\n",
    "    node_step_size = 64,\n",
    "    input_shape=(12,)\n",
    ")"
   ]
  },
  {
   "cell_type": "code",
   "execution_count": 174,
   "id": "1b7d0fef-e9a0-4789-9168-9191a4b03b99",
   "metadata": {},
   "outputs": [
    {
     "name": "stdout",
     "output_type": "stream",
     "text": [
      "#Models = 64\n",
      "\n",
      "dense64_dense64_dense64\n",
      "dense64_dense64_dense128\n",
      "dense64_dense64_dense192\n",
      "dense64_dense64_dense256\n",
      "dense64_dense128_dense64\n",
      "dense64_dense128_dense128\n",
      "dense64_dense128_dense192\n",
      "dense64_dense128_dense256\n",
      "dense64_dense192_dense64\n",
      "dense64_dense192_dense128\n",
      "dense64_dense192_dense192\n",
      "dense64_dense192_dense256\n",
      "dense64_dense256_dense64\n",
      "dense64_dense256_dense128\n",
      "dense64_dense256_dense192\n",
      "dense64_dense256_dense256\n",
      "dense128_dense64_dense64\n",
      "dense128_dense64_dense128\n",
      "dense128_dense64_dense192\n",
      "dense128_dense64_dense256\n",
      "dense128_dense128_dense64\n",
      "dense128_dense128_dense128\n",
      "dense128_dense128_dense192\n",
      "dense128_dense128_dense256\n",
      "dense128_dense192_dense64\n",
      "dense128_dense192_dense128\n",
      "dense128_dense192_dense192\n",
      "dense128_dense192_dense256\n",
      "dense128_dense256_dense64\n",
      "dense128_dense256_dense128\n",
      "dense128_dense256_dense192\n",
      "dense128_dense256_dense256\n",
      "dense192_dense64_dense64\n",
      "dense192_dense64_dense128\n",
      "dense192_dense64_dense192\n",
      "dense192_dense64_dense256\n",
      "dense192_dense128_dense64\n",
      "dense192_dense128_dense128\n",
      "dense192_dense128_dense192\n",
      "dense192_dense128_dense256\n",
      "dense192_dense192_dense64\n",
      "dense192_dense192_dense128\n",
      "dense192_dense192_dense192\n",
      "dense192_dense192_dense256\n",
      "dense192_dense256_dense64\n",
      "dense192_dense256_dense128\n",
      "dense192_dense256_dense192\n",
      "dense192_dense256_dense256\n",
      "dense256_dense64_dense64\n",
      "dense256_dense64_dense128\n",
      "dense256_dense64_dense192\n",
      "dense256_dense64_dense256\n",
      "dense256_dense128_dense64\n",
      "dense256_dense128_dense128\n",
      "dense256_dense128_dense192\n",
      "dense256_dense128_dense256\n",
      "dense256_dense192_dense64\n",
      "dense256_dense192_dense128\n",
      "dense256_dense192_dense192\n",
      "dense256_dense192_dense256\n",
      "dense256_dense256_dense64\n",
      "dense256_dense256_dense128\n",
      "dense256_dense256_dense192\n",
      "dense256_dense256_dense256\n"
     ]
    }
   ],
   "source": [
    "print(f'#Models = {len(all_models)}')\n",
    "print()\n",
    "\n",
    "for model in all_models:\n",
    "    print(model.name)"
   ]
  },
  {
   "cell_type": "markdown",
   "id": "7d3397e9-6d0d-4f3d-b13f-f2aed42e4ba3",
   "metadata": {},
   "source": [
    "## Training function"
   ]
  },
  {
   "cell_type": "code",
   "execution_count": 175,
   "id": "38da0032-e11a-44cb-8c03-19c06cac4179",
   "metadata": {},
   "outputs": [],
   "source": [
    "from sklearn.metrics import accuracy_score, precision_score, recall_score, f1_score"
   ]
  },
  {
   "cell_type": "code",
   "execution_count": null,
   "id": "d9b7358f-baa7-4800-93b5-ad9ae0eb6bfc",
   "metadata": {},
   "outputs": [],
   "source": [
    "def optimize(models: list,\n",
    "             X_train: np.array,\n",
    "             y_train: np.array,\n",
    "             X_test: np.array,\n",
    "             y_test: np.array,\n",
    "             epochs: int = 50,\n",
    "             verbose: int = 0) ->pd.DataFrame:\n",
    "    \n",
    "    results = []\n",
    "    def train(model: tf.keras.Sequential) -> dict:\n",
    "        model.compile(\n",
    "            loss = tf.keras.losses.binary_crossentropy,\n",
    "            optimizer = tf.keras.optimizers.Adam(),\n",
    "            metrics = tf.keras.metrics.BinaryAccuracy(name='accuracy')\n",
    "        )\n",
    "        model.fit(X_train, y_train, epochs=epochs, verbose=verbose)\n",
    "        preds = model.predict(X_test)\n",
    "        prediction_classes = [1 if prob >0.5 else 0 for prob in np.ravel(preds)]\n",
    "        \n",
    "        return {\n",
    "            'model_name': model.name,\n",
    "            'test_accuracy': accuracy_score(y_test, prediction_classes),\n",
    "            'test_precision': precision_score(y_test, prediction_classes),\n",
    "            'test_recall': recall_score(y_test, prediction_classes),\n",
    "            'test_f1': f1_score(y_test, prediction_classes)\n",
    "        }\n",
    "    \n",
    "    for model in models:\n",
    "        try:\n",
    "            print(model.name, end = ' ... ... ')\n",
    "            res = train(model=model)\n",
    "            results.append(res)\n",
    "        except Exception as e:\n",
    "            print(f'{model.name} --> {str(e)}')\n",
    "    \n",
    "    return pd.DataFrame(results)"
   ]
  },
  {
   "cell_type": "code",
   "execution_count": null,
   "id": "f151cc89-c8a7-4bc0-bbef-8fcec43b350e",
   "metadata": {},
   "outputs": [],
   "source": [
    "%%time\n",
    "\n",
    "optimization_results = optimize(\n",
    "    models=all_models,\n",
    "    X_train = X_train_scaled,\n",
    "    y_train = y_train,\n",
    "    X_test = X_test_scaled,\n",
    "    y_test = y_test\n",
    ")\n",
    "    "
   ]
  },
  {
   "cell_type": "code",
   "execution_count": 171,
   "id": "3ee8d4c3-cbed-4987-b680-524bddc5c2b1",
   "metadata": {},
   "outputs": [],
   "source": [
    "del all_models"
   ]
  },
  {
   "cell_type": "code",
   "execution_count": 169,
   "id": "c558c8d8-f2db-40f9-a502-420425343dcb",
   "metadata": {},
   "outputs": [
    {
     "data": {
      "text/html": [
       "<div>\n",
       "<style scoped>\n",
       "    .dataframe tbody tr th:only-of-type {\n",
       "        vertical-align: middle;\n",
       "    }\n",
       "\n",
       "    .dataframe tbody tr th {\n",
       "        vertical-align: top;\n",
       "    }\n",
       "\n",
       "    .dataframe thead th {\n",
       "        text-align: right;\n",
       "    }\n",
       "</style>\n",
       "<table border=\"1\" class=\"dataframe\">\n",
       "  <thead>\n",
       "    <tr style=\"text-align: right;\">\n",
       "      <th></th>\n",
       "      <th>model_name</th>\n",
       "      <th>test_accuracy</th>\n",
       "      <th>test_precision</th>\n",
       "      <th>test_recall</th>\n",
       "      <th>test_f1</th>\n",
       "    </tr>\n",
       "  </thead>\n",
       "  <tbody>\n",
       "    <tr>\n",
       "      <th>9</th>\n",
       "      <td>dense256_dense256_dense256</td>\n",
       "      <td>0.810518</td>\n",
       "      <td>0.844282</td>\n",
       "      <td>0.855734</td>\n",
       "      <td>0.849969</td>\n",
       "    </tr>\n",
       "    <tr>\n",
       "      <th>50</th>\n",
       "      <td>dense256_dense256_dense256</td>\n",
       "      <td>0.810518</td>\n",
       "      <td>0.842615</td>\n",
       "      <td>0.858200</td>\n",
       "      <td>0.850336</td>\n",
       "    </tr>\n",
       "    <tr>\n",
       "      <th>57</th>\n",
       "      <td>dense256_dense256_dense256</td>\n",
       "      <td>0.808971</td>\n",
       "      <td>0.841404</td>\n",
       "      <td>0.856967</td>\n",
       "      <td>0.849114</td>\n",
       "    </tr>\n",
       "    <tr>\n",
       "      <th>53</th>\n",
       "      <td>dense256_dense256_dense256</td>\n",
       "      <td>0.808971</td>\n",
       "      <td>0.856061</td>\n",
       "      <td>0.836005</td>\n",
       "      <td>0.845914</td>\n",
       "    </tr>\n",
       "    <tr>\n",
       "      <th>22</th>\n",
       "      <td>dense256_dense256_dense256</td>\n",
       "      <td>0.808198</td>\n",
       "      <td>0.845399</td>\n",
       "      <td>0.849568</td>\n",
       "      <td>0.847478</td>\n",
       "    </tr>\n",
       "    <tr>\n",
       "      <th>...</th>\n",
       "      <td>...</td>\n",
       "      <td>...</td>\n",
       "      <td>...</td>\n",
       "      <td>...</td>\n",
       "      <td>...</td>\n",
       "    </tr>\n",
       "    <tr>\n",
       "      <th>62</th>\n",
       "      <td>dense256_dense256_dense256</td>\n",
       "      <td>0.791183</td>\n",
       "      <td>0.823952</td>\n",
       "      <td>0.848335</td>\n",
       "      <td>0.835966</td>\n",
       "    </tr>\n",
       "    <tr>\n",
       "      <th>54</th>\n",
       "      <td>dense256_dense256_dense256</td>\n",
       "      <td>0.786543</td>\n",
       "      <td>0.821901</td>\n",
       "      <td>0.842170</td>\n",
       "      <td>0.831912</td>\n",
       "    </tr>\n",
       "    <tr>\n",
       "      <th>56</th>\n",
       "      <td>dense256_dense256_dense256</td>\n",
       "      <td>0.785770</td>\n",
       "      <td>0.826406</td>\n",
       "      <td>0.833539</td>\n",
       "      <td>0.829957</td>\n",
       "    </tr>\n",
       "    <tr>\n",
       "      <th>28</th>\n",
       "      <td>dense256_dense256_dense256</td>\n",
       "      <td>0.784996</td>\n",
       "      <td>0.799102</td>\n",
       "      <td>0.877928</td>\n",
       "      <td>0.836663</td>\n",
       "    </tr>\n",
       "    <tr>\n",
       "      <th>35</th>\n",
       "      <td>dense256_dense256_dense256</td>\n",
       "      <td>0.784223</td>\n",
       "      <td>0.825980</td>\n",
       "      <td>0.831073</td>\n",
       "      <td>0.828519</td>\n",
       "    </tr>\n",
       "  </tbody>\n",
       "</table>\n",
       "<p>64 rows × 5 columns</p>\n",
       "</div>"
      ],
      "text/plain": [
       "                    model_name  test_accuracy  test_precision  test_recall  \\\n",
       "9   dense256_dense256_dense256       0.810518        0.844282     0.855734   \n",
       "50  dense256_dense256_dense256       0.810518        0.842615     0.858200   \n",
       "57  dense256_dense256_dense256       0.808971        0.841404     0.856967   \n",
       "53  dense256_dense256_dense256       0.808971        0.856061     0.836005   \n",
       "22  dense256_dense256_dense256       0.808198        0.845399     0.849568   \n",
       "..                         ...            ...             ...          ...   \n",
       "62  dense256_dense256_dense256       0.791183        0.823952     0.848335   \n",
       "54  dense256_dense256_dense256       0.786543        0.821901     0.842170   \n",
       "56  dense256_dense256_dense256       0.785770        0.826406     0.833539   \n",
       "28  dense256_dense256_dense256       0.784996        0.799102     0.877928   \n",
       "35  dense256_dense256_dense256       0.784223        0.825980     0.831073   \n",
       "\n",
       "     test_f1  \n",
       "9   0.849969  \n",
       "50  0.850336  \n",
       "57  0.849114  \n",
       "53  0.845914  \n",
       "22  0.847478  \n",
       "..       ...  \n",
       "62  0.835966  \n",
       "54  0.831912  \n",
       "56  0.829957  \n",
       "28  0.836663  \n",
       "35  0.828519  \n",
       "\n",
       "[64 rows x 5 columns]"
      ]
     },
     "execution_count": 169,
     "metadata": {},
     "output_type": "execute_result"
    }
   ],
   "source": [
    "optimization_results.sort_values(by='test_accuracy', ascending=False)"
   ]
  },
  {
   "cell_type": "markdown",
   "id": "a6fe289f-0394-4f65-b85a-fc4d46bdb511",
   "metadata": {},
   "source": [
    "# Model training"
   ]
  },
  {
   "cell_type": "markdown",
   "id": "54f8d488-4b91-4519-a59f-2cb159094e3d",
   "metadata": {},
   "source": [
    "1. Output layer structure\n",
    "   -> sigmoid function (0 for <0.5 1 for 05\n",
    "2. Loss function -> binary cross entropy (not categorical cross entrpy -> used with multiple categories)\n",
    "3. Class balance -> Are the classes in the target variable balanced (same number of good and bad)\n",
    "\n",
    "Will also use position and recall\n"
   ]
  },
  {
   "cell_type": "code",
   "execution_count": 120,
   "id": "95de9ddf-8f8e-46eb-951e-b36a1c053f85",
   "metadata": {},
   "outputs": [],
   "source": [
    "tf.random.set_seed(42)\n",
    "\n",
    "model = tf.keras.Sequential([\n",
    "    tf.keras.layers.Dense(128, activation = 'relu'),\n",
    "    tf.keras.layers.Dense(256, activation = 'relu'),\n",
    "    #tf.keras.layers.Dense(256, activation = 'relu'),\n",
    "    tf.keras.layers.Dense(1, activation = 'sigmoid'),\n",
    "])"
   ]
  },
  {
   "cell_type": "code",
   "execution_count": 121,
   "id": "86593fa6-1009-40bd-96e0-5e33bf838ce7",
   "metadata": {},
   "outputs": [],
   "source": [
    "model.compile(\n",
    "    loss=tf.keras.losses.binary_crossentropy,\n",
    "    optimizer=tf.keras.optimizers.Adam(learning_rate=0.008),\n",
    "    metrics =[\n",
    "        tf.keras.metrics.BinaryAccuracy(name='accuracy'),\n",
    "        tf.keras.metrics.Precision(name='precision'),\n",
    "        tf.keras.metrics.Recall(name='recall')\n",
    "    ]\n",
    ")"
   ]
  },
  {
   "cell_type": "code",
   "execution_count": 122,
   "id": "b388b716-fcba-4258-853a-c912978419b1",
   "metadata": {},
   "outputs": [
    {
     "name": "stdout",
     "output_type": "stream",
     "text": [
      "Epoch 1/150\n",
      "162/162 [==============================] - 0s 752us/step - loss: 0.5257 - accuracy: 0.7478 - precision: 0.7882 - recall: 0.8238\n",
      "Epoch 2/150\n",
      "162/162 [==============================] - 0s 751us/step - loss: 0.5087 - accuracy: 0.7538 - precision: 0.7894 - recall: 0.8345\n",
      "Epoch 3/150\n",
      "162/162 [==============================] - 0s 745us/step - loss: 0.4969 - accuracy: 0.7619 - precision: 0.7903 - recall: 0.8503\n",
      "Epoch 4/150\n",
      "162/162 [==============================] - 0s 747us/step - loss: 0.4844 - accuracy: 0.7652 - precision: 0.8054 - recall: 0.8305\n",
      "Epoch 5/150\n",
      "162/162 [==============================] - 0s 759us/step - loss: 0.4781 - accuracy: 0.7716 - precision: 0.8046 - recall: 0.8451\n",
      "Epoch 6/150\n",
      "162/162 [==============================] - 0s 757us/step - loss: 0.4685 - accuracy: 0.7781 - precision: 0.8138 - recall: 0.8433\n",
      "Epoch 7/150\n",
      "162/162 [==============================] - 0s 771us/step - loss: 0.4707 - accuracy: 0.7694 - precision: 0.8035 - recall: 0.8427\n",
      "Epoch 8/150\n",
      "162/162 [==============================] - 0s 767us/step - loss: 0.4574 - accuracy: 0.7822 - precision: 0.8183 - recall: 0.8442\n",
      "Epoch 9/150\n",
      "162/162 [==============================] - 0s 771us/step - loss: 0.4538 - accuracy: 0.7824 - precision: 0.8233 - recall: 0.8366\n",
      "Epoch 10/150\n",
      "162/162 [==============================] - 0s 760us/step - loss: 0.4514 - accuracy: 0.7892 - precision: 0.8259 - recall: 0.8460\n",
      "Epoch 11/150\n",
      "162/162 [==============================] - 0s 756us/step - loss: 0.4393 - accuracy: 0.7861 - precision: 0.8205 - recall: 0.8485\n",
      "Epoch 12/150\n",
      "162/162 [==============================] - 0s 755us/step - loss: 0.4356 - accuracy: 0.7921 - precision: 0.8280 - recall: 0.8485\n",
      "Epoch 13/150\n",
      "162/162 [==============================] - 0s 772us/step - loss: 0.4255 - accuracy: 0.7969 - precision: 0.8313 - recall: 0.8530\n",
      "Epoch 14/150\n",
      "162/162 [==============================] - 0s 768us/step - loss: 0.4196 - accuracy: 0.8035 - precision: 0.8361 - recall: 0.8585\n",
      "Epoch 15/150\n",
      "162/162 [==============================] - 0s 758us/step - loss: 0.4113 - accuracy: 0.8091 - precision: 0.8446 - recall: 0.8567\n",
      "Epoch 16/150\n",
      "162/162 [==============================] - 0s 772us/step - loss: 0.4017 - accuracy: 0.8087 - precision: 0.8439 - recall: 0.8570\n",
      "Epoch 17/150\n",
      "162/162 [==============================] - 0s 766us/step - loss: 0.3923 - accuracy: 0.8145 - precision: 0.8455 - recall: 0.8659\n",
      "Epoch 18/150\n",
      "162/162 [==============================] - 0s 756us/step - loss: 0.3852 - accuracy: 0.8180 - precision: 0.8522 - recall: 0.8628\n",
      "Epoch 19/150\n",
      "162/162 [==============================] - 0s 754us/step - loss: 0.3753 - accuracy: 0.8263 - precision: 0.8629 - recall: 0.8634\n",
      "Epoch 20/150\n",
      "162/162 [==============================] - 0s 752us/step - loss: 0.3696 - accuracy: 0.8294 - precision: 0.8583 - recall: 0.8756\n",
      "Epoch 21/150\n",
      "162/162 [==============================] - 0s 755us/step - loss: 0.3662 - accuracy: 0.8333 - precision: 0.8659 - recall: 0.8723\n",
      "Epoch 22/150\n",
      "162/162 [==============================] - 0s 780us/step - loss: 0.3580 - accuracy: 0.8366 - precision: 0.8662 - recall: 0.8780\n",
      "Epoch 23/150\n",
      "162/162 [==============================] - 0s 769us/step - loss: 0.3466 - accuracy: 0.8383 - precision: 0.8699 - recall: 0.8762\n",
      "Epoch 24/150\n",
      "162/162 [==============================] - 0s 760us/step - loss: 0.3346 - accuracy: 0.8464 - precision: 0.8730 - recall: 0.8869\n",
      "Epoch 25/150\n",
      "162/162 [==============================] - 0s 753us/step - loss: 0.3300 - accuracy: 0.8443 - precision: 0.8724 - recall: 0.8838\n",
      "Epoch 26/150\n",
      "162/162 [==============================] - 0s 763us/step - loss: 0.3283 - accuracy: 0.8509 - precision: 0.8784 - recall: 0.8878\n",
      "Epoch 27/150\n",
      "162/162 [==============================] - 0s 753us/step - loss: 0.3102 - accuracy: 0.8613 - precision: 0.8831 - recall: 0.9006\n",
      "Epoch 28/150\n",
      "162/162 [==============================] - 0s 751us/step - loss: 0.3113 - accuracy: 0.8578 - precision: 0.8829 - recall: 0.8945\n",
      "Epoch 29/150\n",
      "162/162 [==============================] - 0s 760us/step - loss: 0.2870 - accuracy: 0.8700 - precision: 0.8928 - recall: 0.9037\n",
      "Epoch 30/150\n",
      "162/162 [==============================] - 0s 762us/step - loss: 0.2884 - accuracy: 0.8696 - precision: 0.8866 - recall: 0.9110\n",
      "Epoch 31/150\n",
      "162/162 [==============================] - 0s 768us/step - loss: 0.2850 - accuracy: 0.8725 - precision: 0.8927 - recall: 0.9082\n",
      "Epoch 32/150\n",
      "162/162 [==============================] - 0s 750us/step - loss: 0.2799 - accuracy: 0.8729 - precision: 0.8923 - recall: 0.9095\n",
      "Epoch 33/150\n",
      "162/162 [==============================] - 0s 760us/step - loss: 0.2840 - accuracy: 0.8743 - precision: 0.8947 - recall: 0.9088\n",
      "Epoch 34/150\n",
      "162/162 [==============================] - 0s 760us/step - loss: 0.2761 - accuracy: 0.8766 - precision: 0.8906 - recall: 0.9183\n",
      "Epoch 35/150\n",
      "162/162 [==============================] - 0s 792us/step - loss: 0.2554 - accuracy: 0.8880 - precision: 0.9021 - recall: 0.9238\n",
      "Epoch 36/150\n",
      "162/162 [==============================] - 0s 764us/step - loss: 0.2457 - accuracy: 0.8903 - precision: 0.9026 - recall: 0.9271\n",
      "Epoch 37/150\n",
      "162/162 [==============================] - 0s 767us/step - loss: 0.2418 - accuracy: 0.8917 - precision: 0.9055 - recall: 0.9259\n",
      "Epoch 38/150\n",
      "162/162 [==============================] - 0s 783us/step - loss: 0.2389 - accuracy: 0.9012 - precision: 0.9117 - recall: 0.9348\n",
      "Epoch 39/150\n",
      "162/162 [==============================] - 0s 762us/step - loss: 0.2319 - accuracy: 0.8981 - precision: 0.9071 - recall: 0.9351\n",
      "Epoch 40/150\n",
      "162/162 [==============================] - 0s 764us/step - loss: 0.2283 - accuracy: 0.8990 - precision: 0.9097 - recall: 0.9335\n",
      "Epoch 41/150\n",
      "162/162 [==============================] - 0s 766us/step - loss: 0.2208 - accuracy: 0.9046 - precision: 0.9122 - recall: 0.9402\n",
      "Epoch 42/150\n",
      "162/162 [==============================] - 0s 766us/step - loss: 0.2316 - accuracy: 0.8992 - precision: 0.9124 - recall: 0.9305\n",
      "Epoch 43/150\n",
      "162/162 [==============================] - 0s 772us/step - loss: 0.2156 - accuracy: 0.9058 - precision: 0.9143 - recall: 0.9396\n",
      "Epoch 44/150\n",
      "162/162 [==============================] - 0s 781us/step - loss: 0.2144 - accuracy: 0.9058 - precision: 0.9208 - recall: 0.9317\n",
      "Epoch 45/150\n",
      "162/162 [==============================] - 0s 806us/step - loss: 0.2232 - accuracy: 0.9041 - precision: 0.9163 - recall: 0.9341\n",
      "Epoch 46/150\n",
      "162/162 [==============================] - 0s 800us/step - loss: 0.2142 - accuracy: 0.9052 - precision: 0.9137 - recall: 0.9393\n",
      "Epoch 47/150\n",
      "162/162 [==============================] - 0s 786us/step - loss: 0.1863 - accuracy: 0.9174 - precision: 0.9247 - recall: 0.9470\n",
      "Epoch 48/150\n",
      "162/162 [==============================] - 0s 785us/step - loss: 0.1908 - accuracy: 0.9161 - precision: 0.9248 - recall: 0.9445\n",
      "Epoch 49/150\n",
      "162/162 [==============================] - 0s 777us/step - loss: 0.1977 - accuracy: 0.9124 - precision: 0.9206 - recall: 0.9433\n",
      "Epoch 50/150\n",
      "162/162 [==============================] - 0s 765us/step - loss: 0.1889 - accuracy: 0.9191 - precision: 0.9234 - recall: 0.9515\n",
      "Epoch 51/150\n",
      "162/162 [==============================] - 0s 768us/step - loss: 0.1816 - accuracy: 0.9217 - precision: 0.9303 - recall: 0.9476\n",
      "Epoch 52/150\n",
      "162/162 [==============================] - 0s 816us/step - loss: 0.1672 - accuracy: 0.9257 - precision: 0.9333 - recall: 0.9509\n",
      "Epoch 53/150\n",
      "162/162 [==============================] - 0s 819us/step - loss: 0.1771 - accuracy: 0.9269 - precision: 0.9324 - recall: 0.9540\n",
      "Epoch 54/150\n",
      "162/162 [==============================] - 0s 783us/step - loss: 0.1805 - accuracy: 0.9193 - precision: 0.9247 - recall: 0.9503\n",
      "Epoch 55/150\n",
      "162/162 [==============================] - 0s 777us/step - loss: 0.1821 - accuracy: 0.9195 - precision: 0.9242 - recall: 0.9512\n",
      "Epoch 56/150\n",
      "162/162 [==============================] - 0s 807us/step - loss: 0.1619 - accuracy: 0.9300 - precision: 0.9337 - recall: 0.9576\n",
      "Epoch 57/150\n",
      "162/162 [==============================] - 0s 782us/step - loss: 0.1863 - accuracy: 0.9213 - precision: 0.9289 - recall: 0.9485\n",
      "Epoch 58/150\n",
      "162/162 [==============================] - 0s 771us/step - loss: 0.1746 - accuracy: 0.9257 - precision: 0.9312 - recall: 0.9534\n",
      "Epoch 59/150\n",
      "162/162 [==============================] - 0s 768us/step - loss: 0.1767 - accuracy: 0.9257 - precision: 0.9287 - recall: 0.9564\n",
      "Epoch 60/150\n",
      "162/162 [==============================] - 0s 810us/step - loss: 0.1716 - accuracy: 0.9288 - precision: 0.9303 - recall: 0.9598\n",
      "Epoch 61/150\n",
      "162/162 [==============================] - 0s 823us/step - loss: 0.1493 - accuracy: 0.9350 - precision: 0.9394 - recall: 0.9595\n",
      "Epoch 62/150\n",
      "162/162 [==============================] - 0s 770us/step - loss: 0.1425 - accuracy: 0.9366 - precision: 0.9385 - recall: 0.9631\n",
      "Epoch 63/150\n",
      "162/162 [==============================] - 0s 792us/step - loss: 0.1528 - accuracy: 0.9331 - precision: 0.9376 - recall: 0.9582\n",
      "Epoch 64/150\n",
      "162/162 [==============================] - 0s 834us/step - loss: 0.1321 - accuracy: 0.9412 - precision: 0.9436 - recall: 0.9649\n",
      "Epoch 65/150\n",
      "162/162 [==============================] - 0s 796us/step - loss: 0.1501 - accuracy: 0.9358 - precision: 0.9356 - recall: 0.9652\n",
      "Epoch 66/150\n",
      "162/162 [==============================] - 0s 756us/step - loss: 0.1391 - accuracy: 0.9366 - precision: 0.9346 - recall: 0.9677\n",
      "Epoch 67/150\n",
      "162/162 [==============================] - 0s 789us/step - loss: 0.1795 - accuracy: 0.9213 - precision: 0.9244 - recall: 0.9540\n",
      "Epoch 68/150\n",
      "162/162 [==============================] - 0s 805us/step - loss: 0.1628 - accuracy: 0.9277 - precision: 0.9324 - recall: 0.9552\n",
      "Epoch 69/150\n",
      "162/162 [==============================] - 0s 791us/step - loss: 0.1495 - accuracy: 0.9344 - precision: 0.9375 - recall: 0.9607\n",
      "Epoch 70/150\n",
      "162/162 [==============================] - 0s 788us/step - loss: 0.1442 - accuracy: 0.9368 - precision: 0.9383 - recall: 0.9637\n",
      "Epoch 71/150\n",
      "162/162 [==============================] - 0s 789us/step - loss: 0.1333 - accuracy: 0.9389 - precision: 0.9408 - recall: 0.9643\n",
      "Epoch 72/150\n",
      "162/162 [==============================] - 0s 780us/step - loss: 0.1296 - accuracy: 0.9406 - precision: 0.9412 - recall: 0.9668\n",
      "Epoch 73/150\n",
      "162/162 [==============================] - 0s 776us/step - loss: 0.1392 - accuracy: 0.9366 - precision: 0.9377 - recall: 0.9640\n",
      "Epoch 74/150\n",
      "162/162 [==============================] - 0s 777us/step - loss: 0.1399 - accuracy: 0.9340 - precision: 0.9385 - recall: 0.9588\n",
      "Epoch 75/150\n",
      "162/162 [==============================] - 0s 767us/step - loss: 0.1311 - accuracy: 0.9429 - precision: 0.9457 - recall: 0.9655\n",
      "Epoch 76/150\n",
      "162/162 [==============================] - 0s 783us/step - loss: 0.1587 - accuracy: 0.9321 - precision: 0.9329 - recall: 0.9622\n",
      "Epoch 77/150\n",
      "162/162 [==============================] - 0s 799us/step - loss: 0.1486 - accuracy: 0.9391 - precision: 0.9403 - recall: 0.9652\n",
      "Epoch 78/150\n",
      "162/162 [==============================] - 0s 785us/step - loss: 0.1258 - accuracy: 0.9429 - precision: 0.9446 - recall: 0.9668\n",
      "Epoch 79/150\n",
      "162/162 [==============================] - 0s 777us/step - loss: 0.1202 - accuracy: 0.9443 - precision: 0.9487 - recall: 0.9643\n",
      "Epoch 80/150\n",
      "162/162 [==============================] - 0s 769us/step - loss: 0.1245 - accuracy: 0.9451 - precision: 0.9456 - recall: 0.9692\n",
      "Epoch 81/150\n",
      "162/162 [==============================] - 0s 835us/step - loss: 0.1233 - accuracy: 0.9460 - precision: 0.9467 - recall: 0.9695\n",
      "Epoch 82/150\n",
      "162/162 [==============================] - 0s 772us/step - loss: 0.1222 - accuracy: 0.9460 - precision: 0.9593 - recall: 0.9555\n",
      "Epoch 83/150\n",
      "162/162 [==============================] - 0s 769us/step - loss: 0.1047 - accuracy: 0.9538 - precision: 0.9674 - recall: 0.9595\n",
      "Epoch 84/150\n",
      "162/162 [==============================] - 0s 772us/step - loss: 0.1143 - accuracy: 0.9487 - precision: 0.9603 - recall: 0.9588\n",
      "Epoch 85/150\n",
      "162/162 [==============================] - 0s 769us/step - loss: 0.1050 - accuracy: 0.9515 - precision: 0.9673 - recall: 0.9558\n",
      "Epoch 86/150\n",
      "162/162 [==============================] - 0s 763us/step - loss: 0.1354 - accuracy: 0.9458 - precision: 0.9627 - recall: 0.9515\n",
      "Epoch 87/150\n",
      "162/162 [==============================] - 0s 777us/step - loss: 0.1518 - accuracy: 0.9368 - precision: 0.9519 - recall: 0.9482\n",
      "Epoch 88/150\n",
      "162/162 [==============================] - 0s 788us/step - loss: 0.1150 - accuracy: 0.9501 - precision: 0.9629 - recall: 0.9582\n",
      "Epoch 89/150\n",
      "162/162 [==============================] - 0s 771us/step - loss: 0.1129 - accuracy: 0.9503 - precision: 0.9532 - recall: 0.9692\n",
      "Epoch 90/150\n",
      "162/162 [==============================] - 0s 764us/step - loss: 0.1149 - accuracy: 0.9503 - precision: 0.9500 - recall: 0.9729\n",
      "Epoch 91/150\n",
      "162/162 [==============================] - 0s 761us/step - loss: 0.1232 - accuracy: 0.9484 - precision: 0.9553 - recall: 0.9637\n",
      "Epoch 92/150\n",
      "162/162 [==============================] - 0s 785us/step - loss: 0.1202 - accuracy: 0.9480 - precision: 0.9544 - recall: 0.9640\n",
      "Epoch 93/150\n",
      "162/162 [==============================] - 0s 775us/step - loss: 0.1386 - accuracy: 0.9443 - precision: 0.9586 - recall: 0.9534\n",
      "Epoch 94/150\n",
      "162/162 [==============================] - 0s 770us/step - loss: 0.1202 - accuracy: 0.9522 - precision: 0.9682 - recall: 0.9561\n",
      "Epoch 95/150\n",
      "162/162 [==============================] - 0s 771us/step - loss: 0.1165 - accuracy: 0.9549 - precision: 0.9571 - recall: 0.9726\n",
      "Epoch 96/150\n",
      "162/162 [==============================] - 0s 766us/step - loss: 0.1125 - accuracy: 0.9544 - precision: 0.9695 - recall: 0.9582\n",
      "Epoch 97/150\n",
      "162/162 [==============================] - 0s 769us/step - loss: 0.0969 - accuracy: 0.9573 - precision: 0.9731 - recall: 0.9591\n",
      "Epoch 98/150\n",
      "162/162 [==============================] - 0s 774us/step - loss: 0.0903 - accuracy: 0.9588 - precision: 0.9703 - recall: 0.9646\n",
      "Epoch 99/150\n",
      "162/162 [==============================] - 0s 768us/step - loss: 0.0872 - accuracy: 0.9613 - precision: 0.9718 - recall: 0.9671\n",
      "Epoch 100/150\n",
      "162/162 [==============================] - 0s 802us/step - loss: 0.1049 - accuracy: 0.9542 - precision: 0.9692 - recall: 0.9582\n",
      "Epoch 101/150\n",
      "162/162 [==============================] - 0s 835us/step - loss: 0.0995 - accuracy: 0.9536 - precision: 0.9703 - recall: 0.9561\n",
      "Epoch 102/150\n",
      "162/162 [==============================] - 0s 780us/step - loss: 0.1182 - accuracy: 0.9509 - precision: 0.9653 - recall: 0.9570\n",
      "Epoch 103/150\n",
      "162/162 [==============================] - 0s 763us/step - loss: 0.1088 - accuracy: 0.9520 - precision: 0.9682 - recall: 0.9558\n",
      "Epoch 104/150\n",
      "162/162 [==============================] - 0s 772us/step - loss: 0.1415 - accuracy: 0.9451 - precision: 0.9629 - recall: 0.9500\n",
      "Epoch 105/150\n",
      "162/162 [==============================] - 0s 820us/step - loss: 0.1180 - accuracy: 0.9524 - precision: 0.9697 - recall: 0.9549\n",
      "Epoch 106/150\n",
      "162/162 [==============================] - 0s 768us/step - loss: 0.1068 - accuracy: 0.9561 - precision: 0.9684 - recall: 0.9622\n",
      "Epoch 107/150\n",
      "162/162 [==============================] - 0s 787us/step - loss: 0.0937 - accuracy: 0.9632 - precision: 0.9777 - recall: 0.9640\n",
      "Epoch 108/150\n",
      "162/162 [==============================] - 0s 773us/step - loss: 0.0782 - accuracy: 0.9667 - precision: 0.9802 - recall: 0.9671\n",
      "Epoch 109/150\n",
      "162/162 [==============================] - 0s 790us/step - loss: 0.0787 - accuracy: 0.9648 - precision: 0.9775 - recall: 0.9668\n",
      "Epoch 110/150\n",
      "162/162 [==============================] - 0s 769us/step - loss: 0.0745 - accuracy: 0.9689 - precision: 0.9812 - recall: 0.9695\n",
      "Epoch 111/150\n",
      "162/162 [==============================] - 0s 771us/step - loss: 0.0770 - accuracy: 0.9667 - precision: 0.9773 - recall: 0.9701\n",
      "Epoch 112/150\n",
      "162/162 [==============================] - 0s 783us/step - loss: 0.1282 - accuracy: 0.9476 - precision: 0.9631 - recall: 0.9540\n",
      "Epoch 113/150\n",
      "162/162 [==============================] - 0s 782us/step - loss: 0.1322 - accuracy: 0.9509 - precision: 0.9670 - recall: 0.9552\n",
      "Epoch 114/150\n",
      "162/162 [==============================] - 0s 776us/step - loss: 0.1068 - accuracy: 0.9565 - precision: 0.9725 - recall: 0.9585\n",
      "Epoch 115/150\n",
      "162/162 [==============================] - 0s 797us/step - loss: 0.0758 - accuracy: 0.9669 - precision: 0.9799 - recall: 0.9677\n",
      "Epoch 116/150\n",
      "162/162 [==============================] - 0s 768us/step - loss: 0.0655 - accuracy: 0.9731 - precision: 0.9840 - recall: 0.9735\n",
      "Epoch 117/150\n",
      "162/162 [==============================] - 0s 759us/step - loss: 0.0641 - accuracy: 0.9720 - precision: 0.9822 - recall: 0.9735\n",
      "Epoch 118/150\n",
      "162/162 [==============================] - 0s 782us/step - loss: 0.0931 - accuracy: 0.9609 - precision: 0.9759 - recall: 0.9622\n",
      "Epoch 119/150\n",
      "162/162 [==============================] - 0s 775us/step - loss: 0.1079 - accuracy: 0.9625 - precision: 0.9777 - recall: 0.9628\n",
      "Epoch 120/150\n",
      "162/162 [==============================] - 0s 761us/step - loss: 0.1521 - accuracy: 0.9443 - precision: 0.9640 - recall: 0.9476\n",
      "Epoch 121/150\n",
      "162/162 [==============================] - 0s 767us/step - loss: 0.1395 - accuracy: 0.9414 - precision: 0.9587 - recall: 0.9485\n",
      "Epoch 122/150\n",
      "162/162 [==============================] - 0s 765us/step - loss: 0.1073 - accuracy: 0.9574 - precision: 0.9711 - recall: 0.9616\n",
      "Epoch 123/150\n",
      "162/162 [==============================] - 0s 783us/step - loss: 0.1099 - accuracy: 0.9571 - precision: 0.9731 - recall: 0.9588\n",
      "Epoch 124/150\n",
      "162/162 [==============================] - 0s 774us/step - loss: 0.0777 - accuracy: 0.9683 - precision: 0.9770 - recall: 0.9729\n",
      "Epoch 125/150\n",
      "162/162 [==============================] - 0s 766us/step - loss: 0.0625 - accuracy: 0.9720 - precision: 0.9831 - recall: 0.9726\n",
      "Epoch 126/150\n",
      "162/162 [==============================] - 0s 798us/step - loss: 0.0521 - accuracy: 0.9776 - precision: 0.9883 - recall: 0.9762\n",
      "Epoch 127/150\n",
      "162/162 [==============================] - 0s 763us/step - loss: 0.0489 - accuracy: 0.9776 - precision: 0.9898 - recall: 0.9747\n",
      "Epoch 128/150\n",
      "162/162 [==============================] - 0s 773us/step - loss: 0.0670 - accuracy: 0.9729 - precision: 0.9855 - recall: 0.9716\n",
      "Epoch 129/150\n",
      "162/162 [==============================] - 0s 764us/step - loss: 0.0621 - accuracy: 0.9756 - precision: 0.9870 - recall: 0.9744\n",
      "Epoch 130/150\n",
      "162/162 [==============================] - 0s 753us/step - loss: 0.0680 - accuracy: 0.9725 - precision: 0.9870 - recall: 0.9695\n",
      "Epoch 131/150\n",
      "162/162 [==============================] - 0s 763us/step - loss: 0.0906 - accuracy: 0.9627 - precision: 0.9777 - recall: 0.9631\n",
      "Epoch 132/150\n",
      "162/162 [==============================] - 0s 774us/step - loss: 0.0901 - accuracy: 0.9631 - precision: 0.9801 - recall: 0.9613\n",
      "Epoch 133/150\n",
      "162/162 [==============================] - 0s 771us/step - loss: 0.1191 - accuracy: 0.9590 - precision: 0.9732 - recall: 0.9619\n",
      "Epoch 134/150\n",
      "162/162 [==============================] - 0s 770us/step - loss: 0.1105 - accuracy: 0.9574 - precision: 0.9702 - recall: 0.9625\n",
      "Epoch 135/150\n",
      "162/162 [==============================] - 0s 755us/step - loss: 0.0852 - accuracy: 0.9694 - precision: 0.9824 - recall: 0.9692\n",
      "Epoch 136/150\n",
      "162/162 [==============================] - 0s 772us/step - loss: 0.0623 - accuracy: 0.9739 - precision: 0.9855 - recall: 0.9732\n",
      "Epoch 137/150\n",
      "162/162 [==============================] - 0s 781us/step - loss: 0.1096 - accuracy: 0.9603 - precision: 0.9747 - recall: 0.9625\n",
      "Epoch 138/150\n",
      "162/162 [==============================] - 0s 769us/step - loss: 0.1166 - accuracy: 0.9563 - precision: 0.9716 - recall: 0.9591\n",
      "Epoch 139/150\n",
      "162/162 [==============================] - 0s 777us/step - loss: 0.0753 - accuracy: 0.9692 - precision: 0.9812 - recall: 0.9701\n",
      "Epoch 140/150\n",
      "162/162 [==============================] - 0s 778us/step - loss: 0.0530 - accuracy: 0.9776 - precision: 0.9874 - recall: 0.9771\n",
      "Epoch 141/150\n",
      "162/162 [==============================] - 0s 804us/step - loss: 0.0558 - accuracy: 0.9768 - precision: 0.9865 - recall: 0.9768\n",
      "Epoch 142/150\n",
      "162/162 [==============================] - 0s 774us/step - loss: 0.0476 - accuracy: 0.9801 - precision: 0.9907 - recall: 0.9777\n",
      "Epoch 143/150\n",
      "162/162 [==============================] - 0s 778us/step - loss: 0.0427 - accuracy: 0.9807 - precision: 0.9917 - recall: 0.9777\n",
      "Epoch 144/150\n",
      "162/162 [==============================] - 0s 768us/step - loss: 0.0557 - accuracy: 0.9764 - precision: 0.9886 - recall: 0.9741\n",
      "Epoch 145/150\n",
      "162/162 [==============================] - 0s 931us/step - loss: 0.1080 - accuracy: 0.9613 - precision: 0.9753 - recall: 0.9634\n",
      "Epoch 146/150\n",
      "162/162 [==============================] - 0s 798us/step - loss: 0.1282 - accuracy: 0.9542 - precision: 0.9671 - recall: 0.9604\n",
      "Epoch 147/150\n",
      "162/162 [==============================] - 0s 780us/step - loss: 0.1276 - accuracy: 0.9571 - precision: 0.9710 - recall: 0.9610\n",
      "Epoch 148/150\n",
      "162/162 [==============================] - 0s 787us/step - loss: 0.0876 - accuracy: 0.9642 - precision: 0.9801 - recall: 0.9631\n",
      "Epoch 149/150\n",
      "162/162 [==============================] - 0s 818us/step - loss: 0.0748 - accuracy: 0.9702 - precision: 0.9821 - recall: 0.9707\n",
      "Epoch 150/150\n",
      "162/162 [==============================] - 0s 786us/step - loss: 0.0668 - accuracy: 0.9743 - precision: 0.9849 - recall: 0.9744\n"
     ]
    }
   ],
   "source": [
    "EPOCHS = 150\n",
    "history = model.fit(X_train_scaled, y_train, epochs = EPOCHS)"
   ]
  },
  {
   "cell_type": "code",
   "execution_count": 123,
   "id": "1de22c2f-ba90-4af3-bffa-a99dff6637d1",
   "metadata": {},
   "outputs": [],
   "source": [
    "import matplotlib.pyplot as plt\n",
    "from matplotlib import rcParams"
   ]
  },
  {
   "cell_type": "code",
   "execution_count": 124,
   "id": "252bb6ce-aeb5-4af9-9460-fd75cb10789a",
   "metadata": {},
   "outputs": [],
   "source": [
    "rcParams['figure.figsize'] = (18,8)\n",
    "rcParams['axes.spines.top'] = False\n",
    "rcParams['axes.spines.right'] = False"
   ]
  },
  {
   "cell_type": "code",
   "execution_count": 125,
   "id": "54424cae-51a3-4cd3-8200-cd36ddacbff5",
   "metadata": {},
   "outputs": [
    {
     "data": {
      "text/plain": [
       "<matplotlib.legend.Legend at 0x1de8130cc40>"
      ]
     },
     "execution_count": 125,
     "metadata": {},
     "output_type": "execute_result"
    },
    {
     "data": {
      "image/png": "[encoded data removed]",
      "text/plain": [
       "<Figure size 1296x576 with 1 Axes>"
      ]
     },
     "metadata": {
      "needs_background": "light"
     },
     "output_type": "display_data"
    }
   ],
   "source": [
    "plt.plot(np.arange(1,EPOCHS+1), history.history['loss'], label='loss')\n",
    "plt.plot(np.arange(1,EPOCHS+1), history.history['accuracy'], label='accuracy')\n",
    "plt.plot(np.arange(1,EPOCHS+1), history.history['precision'], label='precision')\n",
    "plt.plot(np.arange(1,EPOCHS+1), history.history['recall'], label='recall')\n",
    "plt.title('Evaluation Metrics')\n",
    "plt.xlabel('Epoch', size =20)\n",
    "plt.legend()"
   ]
  },
  {
   "cell_type": "code",
   "execution_count": 126,
   "id": "420f7fab-910f-4805-bc64-325a4096e6d0",
   "metadata": {},
   "outputs": [
    {
     "name": "stdout",
     "output_type": "stream",
     "text": [
      "41/41 [==============================] - 0s 475us/step\n"
     ]
    }
   ],
   "source": [
    "predictions = model.predict(X_test_scaled)"
   ]
  },
  {
   "cell_type": "code",
   "execution_count": 127,
   "id": "e0010cdf-3828-4785-8cc2-60a379634a31",
   "metadata": {},
   "outputs": [
    {
     "data": {
      "text/plain": [
       "array([[0.00470256],\n",
       "       [0.9826836 ],\n",
       "       [0.9999521 ],\n",
       "       ...,\n",
       "       [0.98928076],\n",
       "       [0.94567406],\n",
       "       [0.40780622]], dtype=float32)"
      ]
     },
     "execution_count": 127,
     "metadata": {},
     "output_type": "execute_result"
    }
   ],
   "source": [
    "predictions"
   ]
  },
  {
   "cell_type": "code",
   "execution_count": 128,
   "id": "1b06ff06-8514-49f3-a2da-d892d8142db3",
   "metadata": {},
   "outputs": [],
   "source": [
    "prediction_classes =[1 if prob > 0.5 else 0 for prob in np.ravel(predictions)]"
   ]
  },
  {
   "cell_type": "code",
   "execution_count": 129,
   "id": "85f6b625-3d27-4a1e-8ada-8b484a1b16cb",
   "metadata": {},
   "outputs": [
    {
     "name": "stdout",
     "output_type": "stream",
     "text": [
      "[[355 127]\n",
      " [160 651]]\n"
     ]
    }
   ],
   "source": [
    "from sklearn.metrics import confusion_matrix\n",
    "\n",
    "print(confusion_matrix(y_test, prediction_classes))"
   ]
  },
  {
   "cell_type": "code",
   "execution_count": 130,
   "id": "94a7ce16-6403-4a4b-9983-b0598477428f",
   "metadata": {},
   "outputs": [
    {
     "name": "stdout",
     "output_type": "stream",
     "text": [
      "Accuracy:  0.78\n",
      "Precision:  0.78\n",
      "Recall:  0.78\n"
     ]
    }
   ],
   "source": [
    "from sklearn.metrics import accuracy_score, precision_score, recall_score\n",
    "\n",
    "print(f'Accuracy: {accuracy_score(y_test, prediction_classes): .2f}')\n",
    "print(f'Precision: {accuracy_score(y_test, prediction_classes): .2f}')\n",
    "print(f'Recall: {accuracy_score(y_test, prediction_classes): .2f}')"
   ]
  },
  {
   "cell_type": "code",
   "execution_count": 119,
   "id": "4537dc72-790f-4564-956c-0bbf7afbe1bf",
   "metadata": {},
   "outputs": [],
   "source": [
    "del model"
   ]
  },
  {
   "cell_type": "code",
   "execution_count": null,
   "id": "02d61739-4ec9-46da-b26d-e8f33e63e8b1",
   "metadata": {},
   "outputs": [],
   "source": []
  }
 ],
 "metadata": {
  "kernelspec": {
   "display_name": "Python 3 (ipykernel)",
   "language": "python",
   "name": "python3"
  },
  "language_info": {
   "codemirror_mode": {
    "name": "ipython",
    "version": 3
   },
   "file_extension": ".py",
   "mimetype": "text/x-python",
   "name": "python",
   "nbconvert_exporter": "python",
   "pygments_lexer": "ipython3",
   "version": "3.9.12"
  }
 },
 "nbformat": 4,
 "nbformat_minor": 5
}
