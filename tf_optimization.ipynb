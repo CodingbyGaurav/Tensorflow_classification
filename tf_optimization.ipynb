{
 "cells": [
  {
   "cell_type": "markdown",
   "id": "eb4f1fa8-e595-4e6a-9b72-1292b327824a",
   "metadata": {},
   "source": [
    "# Optimization Function"
   ]
  },
  {
   "cell_type": "code",
   "execution_count": 14,
   "id": "b2bbe591-b333-4303-8364-0877c10dce34",
   "metadata": {},
   "outputs": [],
   "source": [
    "import itertools\n",
    "import tensorflow as tf"
   ]
  },
  {
   "cell_type": "code",
   "execution_count": 17,
   "id": "23fe30c4-c7eb-4ac1-a97b-bdee64d3a9e6",
   "metadata": {},
   "outputs": [],
   "source": [
    "def get_models(num_layers: int,\n",
    "               min_nodes_per_layer: int,\n",
    "               max_nodes_per_layer: int,\n",
    "               node_step_size: int,\n",
    "               input_shape: tuple,\n",
    "               hidden_layer_activation: str = 'relu',\n",
    "               num_nodes_at_output: int = 1,\n",
    "               output_layer_activations: str = 'sigmoid'):\n",
    "    node_options = list(range(min_nodes_per_layer, max_nodes_per_layer + 1, node_step_size))\n",
    "    layer_possibilites = [node_options] * num_layers\n",
    "    layer_node_permutations = list(itertools.product(*layer_possibilites))\n",
    "    \n",
    "    models = []\n",
    "    for permutation in layer_node_permutations:\n",
    "        model = tf.keras.Sequential()\n",
    "        model.add(tf.keras.layers.InputLayer(input_shape=input_shape))\n",
    "        model_name = ''\n",
    "\n",
    "        for nodes_at_layers in permutation:\n",
    "            model.add(tf.keras.layers.Dense(nodes_at_layers, activation ='relu'))\n",
    "            model_name += f'dense{nodes_at_layers}_'\n",
    "\n",
    "        model.add(tf.keras.layers.Dense(1, activation ='sigmoid'))\n",
    "        model._name = model_name[:-1]\n",
    "        models.append(model)\n",
    "    \n",
    "    return models"
   ]
  },
  {
   "cell_type": "code",
   "execution_count": 18,
   "id": "7c791ab5-0904-43d2-aa96-e0bfff4c0fe1",
   "metadata": {},
   "outputs": [],
   "source": [
    "all_models = get_models(\n",
    "    num_layers= 3,\n",
    "    min_nodes_per_layer = 64,\n",
    "    max_nodes_per_layer = 256,\n",
    "    node_step_size = 64,\n",
    "    input_shape=(12,)\n",
    ")"
   ]
  },
  {
   "cell_type": "code",
   "execution_count": 20,
   "id": "67acfb20-d7e5-4982-ad96-724d0f5e9bb0",
   "metadata": {},
   "outputs": [
    {
     "name": "stdout",
     "output_type": "stream",
     "text": [
      "#Models = 64\n",
      "\n",
      "dense64_dense64_dense64\n",
      "dense64_dense64_dense128\n",
      "dense64_dense64_dense192\n",
      "dense64_dense64_dense256\n",
      "dense64_dense128_dense64\n",
      "dense64_dense128_dense128\n",
      "dense64_dense128_dense192\n",
      "dense64_dense128_dense256\n",
      "dense64_dense192_dense64\n",
      "dense64_dense192_dense128\n",
      "dense64_dense192_dense192\n",
      "dense64_dense192_dense256\n",
      "dense64_dense256_dense64\n",
      "dense64_dense256_dense128\n",
      "dense64_dense256_dense192\n",
      "dense64_dense256_dense256\n",
      "dense128_dense64_dense64\n",
      "dense128_dense64_dense128\n",
      "dense128_dense64_dense192\n",
      "dense128_dense64_dense256\n",
      "dense128_dense128_dense64\n",
      "dense128_dense128_dense128\n",
      "dense128_dense128_dense192\n",
      "dense128_dense128_dense256\n",
      "dense128_dense192_dense64\n",
      "dense128_dense192_dense128\n",
      "dense128_dense192_dense192\n",
      "dense128_dense192_dense256\n",
      "dense128_dense256_dense64\n",
      "dense128_dense256_dense128\n",
      "dense128_dense256_dense192\n",
      "dense128_dense256_dense256\n",
      "dense192_dense64_dense64\n",
      "dense192_dense64_dense128\n",
      "dense192_dense64_dense192\n",
      "dense192_dense64_dense256\n",
      "dense192_dense128_dense64\n",
      "dense192_dense128_dense128\n",
      "dense192_dense128_dense192\n",
      "dense192_dense128_dense256\n",
      "dense192_dense192_dense64\n",
      "dense192_dense192_dense128\n",
      "dense192_dense192_dense192\n",
      "dense192_dense192_dense256\n",
      "dense192_dense256_dense64\n",
      "dense192_dense256_dense128\n",
      "dense192_dense256_dense192\n",
      "dense192_dense256_dense256\n",
      "dense256_dense64_dense64\n",
      "dense256_dense64_dense128\n",
      "dense256_dense64_dense192\n",
      "dense256_dense64_dense256\n",
      "dense256_dense128_dense64\n",
      "dense256_dense128_dense128\n",
      "dense256_dense128_dense192\n",
      "dense256_dense128_dense256\n",
      "dense256_dense192_dense64\n",
      "dense256_dense192_dense128\n",
      "dense256_dense192_dense192\n",
      "dense256_dense192_dense256\n",
      "dense256_dense256_dense64\n",
      "dense256_dense256_dense128\n",
      "dense256_dense256_dense192\n",
      "dense256_dense256_dense256\n"
     ]
    }
   ],
   "source": [
    "print(f'#Models = {len(all_models)}')\n",
    "print()\n",
    "\n",
    "for model in all_models:\n",
    "    print(model.name)"
   ]
  },
  {
   "cell_type": "markdown",
   "id": "fc45dc26-aed8-4309-ba92-0980e228400c",
   "metadata": {},
   "source": [
    "# Training function"
   ]
  },
  {
   "cell_type": "code",
   "execution_count": 21,
   "id": "84a8cbc4-eff0-4452-9fc0-d82ca1566ddf",
   "metadata": {},
   "outputs": [],
   "source": [
    "from sklearn.metrics import accuracy_score, precision_score, recall_score, f1_score\n",
    "import np"
   ]
  },
  {
   "cell_type": "code",
   "execution_count": 25,
   "id": "1ab472c2-3120-4e79-933c-0176667bf255",
   "metadata": {},
   "outputs": [
    {
     "ename": "NameError",
     "evalue": "name 'np' is not defined",
     "output_type": "error",
     "traceback": [
      "\u001b[1;31m---------------------------------------------------------------------------\u001b[0m",
      "\u001b[1;31mNameError\u001b[0m                                 Traceback (most recent call last)",
      "Input \u001b[1;32mIn [25]\u001b[0m, in \u001b[0;36m<cell line: 1>\u001b[1;34m()\u001b[0m\n\u001b[0;32m      1\u001b[0m \u001b[38;5;28;01mdef\u001b[39;00m \u001b[38;5;21moptimize\u001b[39m(models: \u001b[38;5;28mlist\u001b[39m,\n\u001b[1;32m----> 2\u001b[0m              X_train: \u001b[43mnp\u001b[49m\u001b[38;5;241m.\u001b[39marray,\n\u001b[0;32m      3\u001b[0m              y_train: np\u001b[38;5;241m.\u001b[39marray,\n\u001b[0;32m      4\u001b[0m              X_test: np\u001b[38;5;241m.\u001b[39marray,\n\u001b[0;32m      5\u001b[0m              y_test: np\u001b[38;5;241m.\u001b[39marray,\n\u001b[0;32m      6\u001b[0m              epochs: \u001b[38;5;28mint\u001b[39m \u001b[38;5;241m=\u001b[39m \u001b[38;5;241m50\u001b[39m,\n\u001b[0;32m      7\u001b[0m              verbose: \u001b[38;5;28mint\u001b[39m \u001b[38;5;241m=\u001b[39m \u001b[38;5;241m0\u001b[39m) \u001b[38;5;241m-\u001b[39m\u001b[38;5;241m>\u001b[39mpd\u001b[38;5;241m.\u001b[39mDataFrame:\n\u001b[0;32m      9\u001b[0m     results \u001b[38;5;241m-\u001b[39m []\n\u001b[0;32m     11\u001b[0m     \u001b[38;5;28;01mdef\u001b[39;00m \u001b[38;5;21mtrain\u001b[39m(model: tf\u001b[38;5;241m.\u001b[39mkeras\u001b[38;5;241m.\u001b[39mSequential) \u001b[38;5;241m-\u001b[39m\u001b[38;5;241m>\u001b[39m \u001b[38;5;28mdict\u001b[39m:\n",
      "\u001b[1;31mNameError\u001b[0m: name 'np' is not defined"
     ]
    }
   ],
   "source": [
    "def optimize(models: list,\n",
    "             X_train: np.array,\n",
    "             y_train: np.array,\n",
    "             X_test: np.array,\n",
    "             y_test: np.array,\n",
    "             epochs: int = 50,\n",
    "             verbose: int = 0) ->pd.DataFrame:\n",
    "    \n",
    "    results - []\n",
    "    \n",
    "    def train(model: tf.keras.Sequential) -> dict:\n",
    "        model.compile(\n",
    "            loss = tf.keras.losses.binary_crossentropy,\n",
    "            optimizer = tf.keras.optimizers.Adam(),\n",
    "            metrics = tf.keras.metrics.BinaryAccuracy(name='accuracy')\n",
    "        )\n",
    "        model.fit(X_train, y_train, epochs=epocs, verbose=verbose)\n",
    "        preds = model.predict(X_test)\n",
    "        prediction_classes = [1 if prob >0.5 else 0 for prob in np.ravel(preds)]\n",
    "        \n",
    "        return {\n",
    "            'model_name': model.name,\n",
    "            'test_accuracy': accuracy_score(y_test, prediction_classes),\n",
    "            'test_precision': precision_score(y_test, prediction_classes),\n",
    "            'test_recall': recall_score(y_test, prediction_classes),\n",
    "            'test_f1': f1_score(y_test, prediction_classes)\n",
    "        }"
   ]
  },
  {
   "cell_type": "code",
   "execution_count": null,
   "id": "aa126255-83ac-4cf7-aba5-cfa3cb9bbb4a",
   "metadata": {},
   "outputs": [],
   "source": []
  }
 ],
 "metadata": {
  "kernelspec": {
   "display_name": "Python 3 (ipykernel)",
   "language": "python",
   "name": "python3"
  },
  "language_info": {
   "codemirror_mode": {
    "name": "ipython",
    "version": 3
   },
   "file_extension": ".py",
   "mimetype": "text/x-python",
   "name": "python",
   "nbconvert_exporter": "python",
   "pygments_lexer": "ipython3",
   "version": "3.9.12"
  }
 },
 "nbformat": 4,
 "nbformat_minor": 5
}
